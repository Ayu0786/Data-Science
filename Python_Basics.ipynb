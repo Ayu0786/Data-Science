{
  "nbformat": 4,
  "nbformat_minor": 0,
  "metadata": {
    "colab": {
      "name": "Python Basics.ipynb",
      "provenance": [],
      "include_colab_link": true
    },
    "kernelspec": {
      "name": "python3",
      "display_name": "Python 3"
    },
    "language_info": {
      "name": "python"
    }
  },
  "cells": [
    {
      "cell_type": "markdown",
      "metadata": {
        "id": "view-in-github",
        "colab_type": "text"
      },
      "source": [
        "<a href=\"https://colab.research.google.com/github/Ayu0786/Data-Science/blob/main/Python_Basics.ipynb\" target=\"_parent\"><img src=\"https://colab.research.google.com/assets/colab-badge.svg\" alt=\"Open In Colab\"/></a>"
      ]
    },
    {
      "cell_type": "markdown",
      "source": [
        "### **Python:** :- Python is a high-level, interpreted, general-purpose programming language. Its design philosophy emphasizes code readability with the use of significant indentation. Python is dynamically-typed and garbage-collected. It supports multiple programming paradigms, including structured (particularly procedural), object-oriented and functional programming."
      ],
      "metadata": {
        "id": "bG_QXdCf7CF0"
      }
    },
    {
      "cell_type": "markdown",
      "source": [
        "###How to print anything in python\n"
      ],
      "metadata": {
        "id": "uyKlze036P-p"
      }
    },
    {
      "cell_type": "code",
      "execution_count": null,
      "metadata": {
        "colab": {
          "base_uri": "https://localhost:8080/"
        },
        "id": "HPDJBPFRcDYe",
        "outputId": "d0b7686d-b690-4086-cf38-ee86af2060c1"
      },
      "outputs": [
        {
          "output_type": "stream",
          "name": "stdout",
          "text": [
            "Hello Pepcoding\n"
          ]
        }
      ],
      "source": [
        "print(\"Hello Pepcoding\")"
      ]
    },
    {
      "cell_type": "code",
      "source": [
        "num = 10"
      ],
      "metadata": {
        "id": "v5oPzAhmcrOs"
      },
      "execution_count": null,
      "outputs": []
    },
    {
      "cell_type": "code",
      "source": [
        "print(num)"
      ],
      "metadata": {
        "colab": {
          "base_uri": "https://localhost:8080/"
        },
        "id": "J8QIfgHndcWk",
        "outputId": "554a48b2-cfe2-4512-a5d4-ca85fbe57d3e"
      },
      "execution_count": null,
      "outputs": [
        {
          "output_type": "stream",
          "name": "stdout",
          "text": [
            "10\n"
          ]
        }
      ]
    },
    {
      "cell_type": "markdown",
      "source": [
        "###How to print String in python"
      ],
      "metadata": {
        "id": "vbrkE-xI6aue"
      }
    },
    {
      "cell_type": "code",
      "source": [
        "string = \"Pepcoding\""
      ],
      "metadata": {
        "id": "YywDQQFHddza"
      },
      "execution_count": null,
      "outputs": []
    },
    {
      "cell_type": "code",
      "source": [
        "print(string)"
      ],
      "metadata": {
        "colab": {
          "base_uri": "https://localhost:8080/"
        },
        "id": "I3Fce1zOdjmr",
        "outputId": "8c3b5a7c-3c1e-4f16-9504-c56ebb5f5521"
      },
      "execution_count": null,
      "outputs": [
        {
          "output_type": "stream",
          "name": "stdout",
          "text": [
            "Pepcoding\n"
          ]
        }
      ]
    },
    {
      "cell_type": "markdown",
      "source": [
        "###Using type keyword we can know about the datatype of particular variable"
      ],
      "metadata": {
        "id": "bnKmrmr68YA8"
      }
    },
    {
      "cell_type": "code",
      "source": [
        "print(type(string))"
      ],
      "metadata": {
        "colab": {
          "base_uri": "https://localhost:8080/"
        },
        "id": "Q_hK4Lgidlbk",
        "outputId": "d20c02c2-bd36-4b6a-dc6c-d25dee5bc2eb"
      },
      "execution_count": null,
      "outputs": [
        {
          "output_type": "stream",
          "name": "stdout",
          "text": [
            "<class 'str'>\n"
          ]
        }
      ]
    },
    {
      "cell_type": "code",
      "source": [
        "print(type(num))"
      ],
      "metadata": {
        "colab": {
          "base_uri": "https://localhost:8080/"
        },
        "id": "LnQ-Hq73dodi",
        "outputId": "93318291-ecff-46ff-dedf-2716dbc3b530"
      },
      "execution_count": null,
      "outputs": [
        {
          "output_type": "stream",
          "name": "stdout",
          "text": [
            "<class 'int'>\n"
          ]
        }
      ]
    },
    {
      "cell_type": "code",
      "source": [
        "aaditya = 2.2"
      ],
      "metadata": {
        "id": "yuBPm8XCdtTz"
      },
      "execution_count": null,
      "outputs": []
    },
    {
      "cell_type": "code",
      "source": [
        "print(type(aaditya))"
      ],
      "metadata": {
        "colab": {
          "base_uri": "https://localhost:8080/"
        },
        "id": "meeBoGgbdz1i",
        "outputId": "4ad7835a-16ee-49fb-8ea4-bc98e2bda5fb"
      },
      "execution_count": null,
      "outputs": [
        {
          "output_type": "stream",
          "name": "stdout",
          "text": [
            "<class 'float'>\n"
          ]
        }
      ]
    },
    {
      "cell_type": "code",
      "source": [
        "print(vishant)"
      ],
      "metadata": {
        "colab": {
          "base_uri": "https://localhost:8080/"
        },
        "id": "xbE1I15VeOw7",
        "outputId": "872cb73b-2f80-4b68-d9d1-73370e5232a1"
      },
      "execution_count": null,
      "outputs": [
        {
          "output_type": "stream",
          "name": "stdout",
          "text": [
            "599\n"
          ]
        }
      ]
    },
    {
      "cell_type": "code",
      "source": [
        "print(type(aaditya),type(num),type(string))"
      ],
      "metadata": {
        "colab": {
          "base_uri": "https://localhost:8080/"
        },
        "id": "n15mZ4whd2EI",
        "outputId": "378cdfaf-8e22-4b38-86c2-783799891f58"
      },
      "execution_count": null,
      "outputs": [
        {
          "output_type": "stream",
          "name": "stdout",
          "text": [
            "<class 'float'> <class 'int'> <class 'str'>\n"
          ]
        }
      ]
    },
    {
      "cell_type": "code",
      "source": [
        "vishant = 599"
      ],
      "metadata": {
        "id": "Qg6f3knnd7hz"
      },
      "execution_count": null,
      "outputs": []
    },
    {
      "cell_type": "code",
      "source": [
        "a,b,c = 10,20,30"
      ],
      "metadata": {
        "id": "sidxx9zJeVaO"
      },
      "execution_count": null,
      "outputs": []
    },
    {
      "cell_type": "code",
      "source": [
        "print(a,b,c);"
      ],
      "metadata": {
        "colab": {
          "base_uri": "https://localhost:8080/"
        },
        "id": "pGigrx1SehFw",
        "outputId": "cd740a79-92db-4b26-d2eb-84d20afb32dd"
      },
      "execution_count": null,
      "outputs": [
        {
          "output_type": "stream",
          "name": "stdout",
          "text": [
            "10 20 30\n"
          ]
        }
      ]
    },
    {
      "cell_type": "code",
      "source": [
        "a = 55\n",
        "b='55'"
      ],
      "metadata": {
        "id": "frnlHmEZeicu"
      },
      "execution_count": null,
      "outputs": []
    },
    {
      "cell_type": "code",
      "source": [
        "a=b=c=5"
      ],
      "metadata": {
        "id": "y-IdeqZverSh"
      },
      "execution_count": null,
      "outputs": []
    },
    {
      "cell_type": "markdown",
      "source": [
        "###Import keyword to print the list of Keywords"
      ],
      "metadata": {
        "id": "JmClzyzw8t_a"
      }
    },
    {
      "cell_type": "code",
      "source": [
        "import keyword\n",
        "print(keyword.kwlist)"
      ],
      "metadata": {
        "colab": {
          "base_uri": "https://localhost:8080/"
        },
        "id": "JmwRiM26ezGU",
        "outputId": "40360802-bfed-4c5f-b6d4-9e732e6d26da"
      },
      "execution_count": null,
      "outputs": [
        {
          "output_type": "stream",
          "name": "stdout",
          "text": [
            "['False', 'None', 'True', 'and', 'as', 'assert', 'async', 'await', 'break', 'class', 'continue', 'def', 'del', 'elif', 'else', 'except', 'finally', 'for', 'from', 'global', 'if', 'import', 'in', 'is', 'lambda', 'nonlocal', 'not', 'or', 'pass', 'raise', 'return', 'try', 'while', 'with', 'yield']\n"
          ]
        }
      ]
    },
    {
      "cell_type": "markdown",
      "source": [
        "##Numbers"
      ],
      "metadata": {
        "id": "ve0ZuzXjhHmN"
      }
    },
    {
      "cell_type": "code",
      "source": [
        "num1 = 100"
      ],
      "metadata": {
        "id": "HikClNd-fFIb"
      },
      "execution_count": 1,
      "outputs": []
    },
    {
      "cell_type": "code",
      "source": [
        "num2 = 4.4"
      ],
      "metadata": {
        "id": "C97iR1kzhZdZ"
      },
      "execution_count": 2,
      "outputs": []
    },
    {
      "cell_type": "code",
      "source": [
        "num3 = 5+6j"
      ],
      "metadata": {
        "id": "wxmaOJeLhbTP"
      },
      "execution_count": 3,
      "outputs": []
    },
    {
      "cell_type": "code",
      "source": [
        "print(type(num1),type(num2),type(num3))"
      ],
      "metadata": {
        "colab": {
          "base_uri": "https://localhost:8080/"
        },
        "id": "Q1o_63bBhfLY",
        "outputId": "45fa9767-fe6b-459d-bc22-066baaedbd52"
      },
      "execution_count": 4,
      "outputs": [
        {
          "output_type": "stream",
          "name": "stdout",
          "text": [
            "<class 'int'> <class 'float'> <class 'complex'>\n"
          ]
        }
      ]
    },
    {
      "cell_type": "code",
      "source": [
        "print(num1,num2,num3)"
      ],
      "metadata": {
        "colab": {
          "base_uri": "https://localhost:8080/"
        },
        "id": "FIxRmyUMhkru",
        "outputId": "a3e1caeb-441e-4943-ed30-c3334d8752bd"
      },
      "execution_count": 5,
      "outputs": [
        {
          "output_type": "stream",
          "name": "stdout",
          "text": [
            "100 4.4 (5+6j)\n"
          ]
        }
      ]
    },
    {
      "cell_type": "markdown",
      "source": [
        "###String :- A string (str) in Python is a single character or a collection of characters. When we create a string, this internally converts into a combination of 1s and 0s for the computer to handle. This conversion of string to binary numbers is called encoding and is done using Unicode in Python."
      ],
      "metadata": {
        "id": "-KhfEcGkhrE9"
      }
    },
    {
      "cell_type": "code",
      "source": [
        "string = \"Pepcoding\""
      ],
      "metadata": {
        "id": "jsI1yfkfhx6U"
      },
      "execution_count": 6,
      "outputs": []
    },
    {
      "cell_type": "code",
      "source": [
        "print(type(string))"
      ],
      "metadata": {
        "colab": {
          "base_uri": "https://localhost:8080/"
        },
        "id": "O9c2VSS3h3T4",
        "outputId": "0c1ff42c-740d-4762-c743-a254f35104d7"
      },
      "execution_count": 7,
      "outputs": [
        {
          "output_type": "stream",
          "name": "stdout",
          "text": [
            "<class 'str'>\n"
          ]
        }
      ]
    },
    {
      "cell_type": "code",
      "source": [
        "print(string[0])"
      ],
      "metadata": {
        "colab": {
          "base_uri": "https://localhost:8080/"
        },
        "id": "Syhb2U4Ah506",
        "outputId": "ebaca746-6b85-4bc6-d39d-1943c7d5002d"
      },
      "execution_count": 8,
      "outputs": [
        {
          "output_type": "stream",
          "name": "stdout",
          "text": [
            "P\n"
          ]
        }
      ]
    },
    {
      "cell_type": "markdown",
      "source": [
        "Strings in Python are immutable"
      ],
      "metadata": {
        "id": "F_gCwqAwiQwK"
      }
    },
    {
      "cell_type": "code",
      "source": [
        "string[0]=\"A\""
      ],
      "metadata": {
        "colab": {
          "base_uri": "https://localhost:8080/",
          "height": 166
        },
        "id": "H6pNK9LJiTLb",
        "outputId": "fac26cb5-0a70-4c18-8f39-b48c4f9d4ed9"
      },
      "execution_count": 9,
      "outputs": [
        {
          "output_type": "error",
          "ename": "TypeError",
          "evalue": "ignored",
          "traceback": [
            "\u001b[0;31m---------------------------------------------------------------------------\u001b[0m",
            "\u001b[0;31mTypeError\u001b[0m                                 Traceback (most recent call last)",
            "\u001b[0;32m<ipython-input-9-e44e39c99965>\u001b[0m in \u001b[0;36m<module>\u001b[0;34m()\u001b[0m\n\u001b[0;32m----> 1\u001b[0;31m \u001b[0mstring\u001b[0m\u001b[0;34m[\u001b[0m\u001b[0;36m0\u001b[0m\u001b[0;34m]\u001b[0m\u001b[0;34m=\u001b[0m\u001b[0;34m\"A\"\u001b[0m\u001b[0;34m\u001b[0m\u001b[0;34m\u001b[0m\u001b[0m\n\u001b[0m",
            "\u001b[0;31mTypeError\u001b[0m: 'str' object does not support item assignment"
          ]
        }
      ]
    },
    {
      "cell_type": "code",
      "source": [
        "string = \"Nados\""
      ],
      "metadata": {
        "id": "U_6tlzcOiX79"
      },
      "execution_count": 10,
      "outputs": []
    },
    {
      "cell_type": "markdown",
      "source": [
        "#Slicing\n"
      ],
      "metadata": {
        "id": "1I_dPAtO9lfy"
      }
    },
    {
      "cell_type": "code",
      "source": [
        "\n",
        "string[0:3]"
      ],
      "metadata": {
        "id": "8u3nU5iPiqya",
        "colab": {
          "base_uri": "https://localhost:8080/",
          "height": 35
        },
        "outputId": "c1f8f1c1-25bd-4c0b-c4c9-7b6cdac868cc"
      },
      "execution_count": 11,
      "outputs": [
        {
          "output_type": "execute_result",
          "data": {
            "text/plain": [
              "'Nad'"
            ],
            "application/vnd.google.colaboratory.intrinsic+json": {
              "type": "string"
            }
          },
          "metadata": {},
          "execution_count": 11
        }
      ]
    },
    {
      "cell_type": "code",
      "source": [
        "string[0:]"
      ],
      "metadata": {
        "colab": {
          "base_uri": "https://localhost:8080/",
          "height": 35
        },
        "id": "O_xeAyo6lOtS",
        "outputId": "4043ed1b-5762-4e32-b3f1-5f462d6602e5"
      },
      "execution_count": 12,
      "outputs": [
        {
          "output_type": "execute_result",
          "data": {
            "text/plain": [
              "'Nados'"
            ],
            "application/vnd.google.colaboratory.intrinsic+json": {
              "type": "string"
            }
          },
          "metadata": {},
          "execution_count": 12
        }
      ]
    },
    {
      "cell_type": "code",
      "source": [
        "string[1:]"
      ],
      "metadata": {
        "colab": {
          "base_uri": "https://localhost:8080/",
          "height": 35
        },
        "id": "deo-kZSzloaE",
        "outputId": "c8a4c46f-515e-4996-d789-0a6b43757e73"
      },
      "execution_count": null,
      "outputs": [
        {
          "output_type": "execute_result",
          "data": {
            "application/vnd.google.colaboratory.intrinsic+json": {
              "type": "string"
            },
            "text/plain": [
              "'epcoding'"
            ]
          },
          "metadata": {},
          "execution_count": 40
        }
      ]
    },
    {
      "cell_type": "code",
      "source": [
        "string[:3]"
      ],
      "metadata": {
        "colab": {
          "base_uri": "https://localhost:8080/",
          "height": 35
        },
        "id": "mbnloHtblqFC",
        "outputId": "2d0a9c75-6e27-42fc-a2de-0d3f8d61ec8e"
      },
      "execution_count": 13,
      "outputs": [
        {
          "output_type": "execute_result",
          "data": {
            "text/plain": [
              "'Nad'"
            ],
            "application/vnd.google.colaboratory.intrinsic+json": {
              "type": "string"
            }
          },
          "metadata": {},
          "execution_count": 13
        }
      ]
    },
    {
      "cell_type": "code",
      "source": [
        "string[:]"
      ],
      "metadata": {
        "colab": {
          "base_uri": "https://localhost:8080/",
          "height": 35
        },
        "id": "3A7Ro1Xtlxrq",
        "outputId": "880f4c1b-0af9-42ec-85eb-ae95406d99d3"
      },
      "execution_count": 14,
      "outputs": [
        {
          "output_type": "execute_result",
          "data": {
            "text/plain": [
              "'Nados'"
            ],
            "application/vnd.google.colaboratory.intrinsic+json": {
              "type": "string"
            }
          },
          "metadata": {},
          "execution_count": 14
        }
      ]
    },
    {
      "cell_type": "code",
      "source": [
        "string[0:4:2]"
      ],
      "metadata": {
        "colab": {
          "base_uri": "https://localhost:8080/",
          "height": 35
        },
        "id": "5WVLKjn7l3OI",
        "outputId": "0dec72c0-89d2-4eb9-f581-11dd086c9465"
      },
      "execution_count": 15,
      "outputs": [
        {
          "output_type": "execute_result",
          "data": {
            "text/plain": [
              "'Nd'"
            ],
            "application/vnd.google.colaboratory.intrinsic+json": {
              "type": "string"
            }
          },
          "metadata": {},
          "execution_count": 15
        }
      ]
    },
    {
      "cell_type": "code",
      "source": [
        "string[::2]"
      ],
      "metadata": {
        "colab": {
          "base_uri": "https://localhost:8080/",
          "height": 35
        },
        "id": "X1gJGn1EmLS8",
        "outputId": "27fe2830-9845-40e2-a10e-ab23df5d88ea"
      },
      "execution_count": 16,
      "outputs": [
        {
          "output_type": "execute_result",
          "data": {
            "text/plain": [
              "'Nds'"
            ],
            "application/vnd.google.colaboratory.intrinsic+json": {
              "type": "string"
            }
          },
          "metadata": {},
          "execution_count": 16
        }
      ]
    },
    {
      "cell_type": "code",
      "source": [
        "string[7:1:1]"
      ],
      "metadata": {
        "colab": {
          "base_uri": "https://localhost:8080/",
          "height": 35
        },
        "id": "VhdUyNpgmQkU",
        "outputId": "bdedd76b-089b-49ba-f25e-93abcfd67575"
      },
      "execution_count": 17,
      "outputs": [
        {
          "output_type": "execute_result",
          "data": {
            "text/plain": [
              "''"
            ],
            "application/vnd.google.colaboratory.intrinsic+json": {
              "type": "string"
            }
          },
          "metadata": {},
          "execution_count": 17
        }
      ]
    },
    {
      "cell_type": "code",
      "source": [
        "string[-1]"
      ],
      "metadata": {
        "colab": {
          "base_uri": "https://localhost:8080/",
          "height": 35
        },
        "id": "AxEbtmVbm4AH",
        "outputId": "99224994-2d74-4a41-a32f-260c38ad205a"
      },
      "execution_count": 18,
      "outputs": [
        {
          "output_type": "execute_result",
          "data": {
            "text/plain": [
              "'s'"
            ],
            "application/vnd.google.colaboratory.intrinsic+json": {
              "type": "string"
            }
          },
          "metadata": {},
          "execution_count": 18
        }
      ]
    },
    {
      "cell_type": "code",
      "source": [
        "string[-9:-6]"
      ],
      "metadata": {
        "colab": {
          "base_uri": "https://localhost:8080/",
          "height": 35
        },
        "id": "pTHHJ-YpnKH-",
        "outputId": "e3f562f4-c0e5-4dfa-9894-482cf00e4cac"
      },
      "execution_count": 19,
      "outputs": [
        {
          "output_type": "execute_result",
          "data": {
            "text/plain": [
              "''"
            ],
            "application/vnd.google.colaboratory.intrinsic+json": {
              "type": "string"
            }
          },
          "metadata": {},
          "execution_count": 19
        }
      ]
    },
    {
      "cell_type": "code",
      "source": [
        "string[8:5:-1]"
      ],
      "metadata": {
        "colab": {
          "base_uri": "https://localhost:8080/",
          "height": 35
        },
        "id": "JyZBezw9nYqg",
        "outputId": "7e7dc257-cb86-4a12-eb19-ff59281823fd"
      },
      "execution_count": 20,
      "outputs": [
        {
          "output_type": "execute_result",
          "data": {
            "text/plain": [
              "''"
            ],
            "application/vnd.google.colaboratory.intrinsic+json": {
              "type": "string"
            }
          },
          "metadata": {},
          "execution_count": 20
        }
      ]
    },
    {
      "cell_type": "code",
      "source": [
        "string[-3:-9:-1]"
      ],
      "metadata": {
        "colab": {
          "base_uri": "https://localhost:8080/",
          "height": 35
        },
        "id": "Rix330H1n3y7",
        "outputId": "071c606b-74fa-4f22-a522-5311e8f992df"
      },
      "execution_count": 21,
      "outputs": [
        {
          "output_type": "execute_result",
          "data": {
            "text/plain": [
              "'daN'"
            ],
            "application/vnd.google.colaboratory.intrinsic+json": {
              "type": "string"
            }
          },
          "metadata": {},
          "execution_count": 21
        }
      ]
    },
    {
      "cell_type": "code",
      "source": [
        "string[::-1]"
      ],
      "metadata": {
        "colab": {
          "base_uri": "https://localhost:8080/",
          "height": 35
        },
        "id": "PP3mBYiJoIAp",
        "outputId": "fb914ecc-a85d-4d13-e744-19cc34edd623"
      },
      "execution_count": 22,
      "outputs": [
        {
          "output_type": "execute_result",
          "data": {
            "text/plain": [
              "'sodaN'"
            ],
            "application/vnd.google.colaboratory.intrinsic+json": {
              "type": "string"
            }
          },
          "metadata": {},
          "execution_count": 22
        }
      ]
    },
    {
      "cell_type": "code",
      "source": [
        "string[:-4:-1]"
      ],
      "metadata": {
        "colab": {
          "base_uri": "https://localhost:8080/",
          "height": 35
        },
        "id": "qVveiUiIoeqZ",
        "outputId": "3bc6c4b6-4c43-4839-c421-f71a50d29251"
      },
      "execution_count": 23,
      "outputs": [
        {
          "output_type": "execute_result",
          "data": {
            "text/plain": [
              "'sod'"
            ],
            "application/vnd.google.colaboratory.intrinsic+json": {
              "type": "string"
            }
          },
          "metadata": {},
          "execution_count": 23
        }
      ]
    },
    {
      "cell_type": "code",
      "source": [
        "len(string)"
      ],
      "metadata": {
        "colab": {
          "base_uri": "https://localhost:8080/"
        },
        "id": "lpVAHeAkoma5",
        "outputId": "348e0463-8dcc-4db2-c94a-dc53d56239ee"
      },
      "execution_count": 24,
      "outputs": [
        {
          "output_type": "execute_result",
          "data": {
            "text/plain": [
              "5"
            ]
          },
          "metadata": {},
          "execution_count": 24
        }
      ]
    },
    {
      "cell_type": "code",
      "source": [
        "string[2:-2:-1]"
      ],
      "metadata": {
        "colab": {
          "base_uri": "https://localhost:8080/",
          "height": 35
        },
        "id": "BTyRVnBlrpot",
        "outputId": "8101cd2a-e659-423e-c180-3b345cb01370"
      },
      "execution_count": 25,
      "outputs": [
        {
          "output_type": "execute_result",
          "data": {
            "text/plain": [
              "''"
            ],
            "application/vnd.google.colaboratory.intrinsic+json": {
              "type": "string"
            }
          },
          "metadata": {},
          "execution_count": 25
        }
      ]
    },
    {
      "cell_type": "code",
      "source": [
        "string[:4:-1]"
      ],
      "metadata": {
        "colab": {
          "base_uri": "https://localhost:8080/",
          "height": 35
        },
        "id": "bNb5YjN5r70W",
        "outputId": "4005895b-fc97-4e68-b401-c7ce29bbb8c1"
      },
      "execution_count": 26,
      "outputs": [
        {
          "output_type": "execute_result",
          "data": {
            "text/plain": [
              "''"
            ],
            "application/vnd.google.colaboratory.intrinsic+json": {
              "type": "string"
            }
          },
          "metadata": {},
          "execution_count": 26
        }
      ]
    },
    {
      "cell_type": "markdown",
      "source": [
        "###Using For Loop How can we print characters."
      ],
      "metadata": {
        "id": "sXx7iBND9vuJ"
      }
    },
    {
      "cell_type": "code",
      "source": [
        "for ch in string:\n",
        "  print(ch)\n"
      ],
      "metadata": {
        "colab": {
          "base_uri": "https://localhost:8080/"
        },
        "id": "HeW2mhV-pTn2",
        "outputId": "51f802fd-db6a-4195-e679-05fc09a7f19d"
      },
      "execution_count": 28,
      "outputs": [
        {
          "output_type": "stream",
          "name": "stdout",
          "text": [
            "N\n",
            "a\n",
            "d\n",
            "o\n",
            "s\n"
          ]
        }
      ]
    },
    {
      "cell_type": "code",
      "source": [
        "print(\"Pep\",end=\"\")\n",
        "print(\"coding\")"
      ],
      "metadata": {
        "colab": {
          "base_uri": "https://localhost:8080/"
        },
        "id": "aVG5zJrhpVR2",
        "outputId": "0a59d669-824a-4660-8ea8-aed3632e3cb8"
      },
      "execution_count": 29,
      "outputs": [
        {
          "output_type": "stream",
          "name": "stdout",
          "text": [
            "Pepcoding\n"
          ]
        }
      ]
    },
    {
      "cell_type": "code",
      "source": [
        "if \"coding\" in string:\n",
        "  print(\"Hello Pepcoding\")"
      ],
      "metadata": {
        "id": "wsxDV6jZuAde"
      },
      "execution_count": 30,
      "outputs": []
    },
    {
      "cell_type": "markdown",
      "source": [
        "###String using Upper method"
      ],
      "metadata": {
        "id": "6wWmeo__9-8f"
      }
    },
    {
      "cell_type": "code",
      "source": [
        "string.upper()"
      ],
      "metadata": {
        "colab": {
          "base_uri": "https://localhost:8080/",
          "height": 35
        },
        "id": "0CJPbPGzuwBZ",
        "outputId": "e0a2168c-ebd0-44c9-d0e8-49a4215cabe0"
      },
      "execution_count": 31,
      "outputs": [
        {
          "output_type": "execute_result",
          "data": {
            "text/plain": [
              "'NADOS'"
            ],
            "application/vnd.google.colaboratory.intrinsic+json": {
              "type": "string"
            }
          },
          "metadata": {},
          "execution_count": 31
        }
      ]
    },
    {
      "cell_type": "markdown",
      "source": [
        "###String using Lower method"
      ],
      "metadata": {
        "id": "3QGNBERH-FxE"
      }
    },
    {
      "cell_type": "code",
      "source": [
        "string.lower()"
      ],
      "metadata": {
        "colab": {
          "base_uri": "https://localhost:8080/",
          "height": 35
        },
        "id": "8Kxo0U5Yu1VI",
        "outputId": "ae637fbf-24ed-49bb-8490-3a738549c1db"
      },
      "execution_count": null,
      "outputs": [
        {
          "output_type": "execute_result",
          "data": {
            "application/vnd.google.colaboratory.intrinsic+json": {
              "type": "string"
            },
            "text/plain": [
              "'pepcoding'"
            ]
          },
          "metadata": {},
          "execution_count": 66
        }
      ]
    },
    {
      "cell_type": "markdown",
      "source": [
        "##if Else"
      ],
      "metadata": {
        "id": "IIzRmT97u8h4"
      }
    },
    {
      "cell_type": "code",
      "source": [
        "if 1>2:\n",
        "  print(\"A\")\n",
        "else:\n",
        "  print(\"B\")"
      ],
      "metadata": {
        "colab": {
          "base_uri": "https://localhost:8080/"
        },
        "id": "5oCiFHSBu32D",
        "outputId": "e12de7a6-f9b3-4423-e0fb-b8e8c027e11a"
      },
      "execution_count": null,
      "outputs": [
        {
          "output_type": "stream",
          "name": "stdout",
          "text": [
            "B\n"
          ]
        }
      ]
    },
    {
      "cell_type": "code",
      "source": [
        "marks = 55"
      ],
      "metadata": {
        "id": "hABRRR6vvIjH"
      },
      "execution_count": null,
      "outputs": []
    },
    {
      "cell_type": "code",
      "source": [
        "if marks>90:\n",
        "  print(\"A Grade\")\n",
        "elif marks>80:\n",
        "  print(\"B Grade\")\n",
        "else:\n",
        "  print(\"C Grade\")"
      ],
      "metadata": {
        "colab": {
          "base_uri": "https://localhost:8080/"
        },
        "id": "Wa3IEZX3vNyS",
        "outputId": "dfc42663-3000-4050-d27a-2c867745c4cb"
      },
      "execution_count": null,
      "outputs": [
        {
          "output_type": "stream",
          "name": "stdout",
          "text": [
            "C Grade\n"
          ]
        }
      ]
    },
    {
      "cell_type": "code",
      "source": [
        "for i in range(5):\n",
        "  if i==2:\n",
        "    break\n",
        "  print(i*i)"
      ],
      "metadata": {
        "colab": {
          "base_uri": "https://localhost:8080/"
        },
        "id": "9Ohh-tGhviBZ",
        "outputId": "d5614f84-1843-4e1c-eeab-2a4b057e3eb9"
      },
      "execution_count": null,
      "outputs": [
        {
          "output_type": "stream",
          "name": "stdout",
          "text": [
            "0\n",
            "1\n"
          ]
        }
      ]
    },
    {
      "cell_type": "code",
      "source": [
        "i = 0"
      ],
      "metadata": {
        "id": "dzQ9vYHcv1Wx"
      },
      "execution_count": null,
      "outputs": []
    },
    {
      "cell_type": "code",
      "source": [
        "while i<5:\n",
        "  i+=1"
      ],
      "metadata": {
        "id": "3uHS4SNlws2y"
      },
      "execution_count": null,
      "outputs": []
    },
    {
      "cell_type": "code",
      "source": [
        "for i in range(5):\n",
        "  print(str(i)+\" Hello\")\n",
        "  if i ==2:\n",
        "    break"
      ],
      "metadata": {
        "colab": {
          "base_uri": "https://localhost:8080/"
        },
        "id": "QItSxZDbwvBd",
        "outputId": "6a8becd9-88c2-42d5-8f3a-e0852c552f12"
      },
      "execution_count": null,
      "outputs": [
        {
          "output_type": "stream",
          "name": "stdout",
          "text": [
            "0 Hello\n",
            "1 Hello\n",
            "2 Hello\n"
          ]
        }
      ]
    },
    {
      "cell_type": "code",
      "source": [
        "for i in range(5):\n",
        "  if i ==2:\n",
        "    continue\n",
        "  print(str(i)+\" Hello\")"
      ],
      "metadata": {
        "colab": {
          "base_uri": "https://localhost:8080/"
        },
        "id": "1-F-zeruxhkD",
        "outputId": "96e03153-acb8-471d-bee0-c8f36bcc675a"
      },
      "execution_count": null,
      "outputs": [
        {
          "output_type": "stream",
          "name": "stdout",
          "text": [
            "0 Hello\n",
            "1 Hello\n",
            "3 Hello\n",
            "4 Hello\n"
          ]
        }
      ]
    },
    {
      "cell_type": "markdown",
      "source": [
        "###List [ ] :- Python Lists are just like dynamically sized arrays, declared in other languages (vector in C++ and ArrayList in Java). In simple language, a list is a collection of things, enclosed in [ ] and separated by commas. \n",
        "\n",
        "\n",
        "*   Could be hetergeneous\n",
        "*   Mutable\n",
        "*   Scriptable\n",
        "* Ordered\n"
      ],
      "metadata": {
        "id": "psqhKCD-1Nae"
      }
    },
    {
      "cell_type": "code",
      "source": [
        "lst = [1,2,3,\"Pepcoding\"]"
      ],
      "metadata": {
        "id": "p_R0nsVGxxl3"
      },
      "execution_count": 32,
      "outputs": []
    },
    {
      "cell_type": "code",
      "source": [
        "print(type(lst))"
      ],
      "metadata": {
        "colab": {
          "base_uri": "https://localhost:8080/"
        },
        "id": "PFXNqwHT1Xja",
        "outputId": "0645ea66-05db-464e-b7ec-3fd1b379472b"
      },
      "execution_count": 33,
      "outputs": [
        {
          "output_type": "stream",
          "name": "stdout",
          "text": [
            "<class 'list'>\n"
          ]
        }
      ]
    },
    {
      "cell_type": "markdown",
      "source": [
        "##How can we append anything in list"
      ],
      "metadata": {
        "id": "pwyidHgg-P_c"
      }
    },
    {
      "cell_type": "code",
      "source": [
        "lst.append(\"8\")"
      ],
      "metadata": {
        "id": "aOTvJoPm1Y-Y"
      },
      "execution_count": 34,
      "outputs": []
    },
    {
      "cell_type": "code",
      "source": [
        "lst"
      ],
      "metadata": {
        "colab": {
          "base_uri": "https://localhost:8080/"
        },
        "id": "_xrF9V151byV",
        "outputId": "032b880f-97ec-4987-a726-92b6b0f3e521"
      },
      "execution_count": 35,
      "outputs": [
        {
          "output_type": "execute_result",
          "data": {
            "text/plain": [
              "[1, 2, 3, 'Pepcoding', '8']"
            ]
          },
          "metadata": {},
          "execution_count": 35
        }
      ]
    },
    {
      "cell_type": "code",
      "source": [
        "lst[0]=55"
      ],
      "metadata": {
        "id": "-3I5pgbJ1dSH"
      },
      "execution_count": 36,
      "outputs": []
    },
    {
      "cell_type": "code",
      "source": [
        "lst2 = [1,2,3]\n",
        "\n",
        "lst.append(lst2)"
      ],
      "metadata": {
        "id": "NSuNSXv11vzw"
      },
      "execution_count": 37,
      "outputs": []
    },
    {
      "cell_type": "code",
      "source": [
        "lst"
      ],
      "metadata": {
        "colab": {
          "base_uri": "https://localhost:8080/"
        },
        "id": "PHQ0hlFi2RAq",
        "outputId": "5f25fdf6-3556-48de-8b5c-ff8633ae14e9"
      },
      "execution_count": 38,
      "outputs": [
        {
          "output_type": "execute_result",
          "data": {
            "text/plain": [
              "[55, 2, 3, 'Pepcoding', '8', [1, 2, 3]]"
            ]
          },
          "metadata": {},
          "execution_count": 38
        }
      ]
    },
    {
      "cell_type": "code",
      "source": [
        "lst[-1]"
      ],
      "metadata": {
        "colab": {
          "base_uri": "https://localhost:8080/"
        },
        "id": "Oz34GpjQ2RyK",
        "outputId": "9400a7da-92e9-4ffa-f693-c735b052693e"
      },
      "execution_count": 39,
      "outputs": [
        {
          "output_type": "execute_result",
          "data": {
            "text/plain": [
              "[1, 2, 3]"
            ]
          },
          "metadata": {},
          "execution_count": 39
        }
      ]
    },
    {
      "cell_type": "code",
      "source": [
        "lst[0:3]"
      ],
      "metadata": {
        "colab": {
          "base_uri": "https://localhost:8080/"
        },
        "id": "xKcf2KQF2VEj",
        "outputId": "1931c3d6-bc36-471f-f5fa-6fbb0d7ca435"
      },
      "execution_count": 40,
      "outputs": [
        {
          "output_type": "execute_result",
          "data": {
            "text/plain": [
              "[55, 2, 3]"
            ]
          },
          "metadata": {},
          "execution_count": 40
        }
      ]
    },
    {
      "cell_type": "markdown",
      "source": [
        "##Here we can insert Values using Insert method"
      ],
      "metadata": {
        "id": "wFJdg5Fa-YA-"
      }
    },
    {
      "cell_type": "code",
      "source": [
        "lst.insert(1,\"DEF\")"
      ],
      "metadata": {
        "id": "rT5FCU5t2YOE"
      },
      "execution_count": 41,
      "outputs": []
    },
    {
      "cell_type": "code",
      "source": [
        "lst"
      ],
      "metadata": {
        "colab": {
          "base_uri": "https://localhost:8080/"
        },
        "id": "JdRdfMxe2cgt",
        "outputId": "9a191eab-0fdf-4319-e3d7-59a050d12145"
      },
      "execution_count": 42,
      "outputs": [
        {
          "output_type": "execute_result",
          "data": {
            "text/plain": [
              "[55, 'DEF', 2, 3, 'Pepcoding', '8', [1, 2, 3]]"
            ]
          },
          "metadata": {},
          "execution_count": 42
        }
      ]
    },
    {
      "cell_type": "markdown",
      "source": [
        "###Here we can remove any value what we want"
      ],
      "metadata": {
        "id": "jSVoFwiX-g1V"
      }
    },
    {
      "cell_type": "code",
      "source": [
        "lst.remove(2)"
      ],
      "metadata": {
        "id": "MaVPMLRQ2dAa"
      },
      "execution_count": 43,
      "outputs": []
    },
    {
      "cell_type": "markdown",
      "source": [
        "###Here we can delete the values from list using Pop method"
      ],
      "metadata": {
        "id": "1t3SnojB-rWg"
      }
    },
    {
      "cell_type": "code",
      "source": [
        "print(lst.pop())"
      ],
      "metadata": {
        "colab": {
          "base_uri": "https://localhost:8080/"
        },
        "id": "w39il1yP2ftq",
        "outputId": "2b4fb22a-d87a-4cb6-b443-0f32370019a4"
      },
      "execution_count": 44,
      "outputs": [
        {
          "output_type": "stream",
          "name": "stdout",
          "text": [
            "[1, 2, 3]\n"
          ]
        }
      ]
    },
    {
      "cell_type": "code",
      "source": [
        "lst"
      ],
      "metadata": {
        "colab": {
          "base_uri": "https://localhost:8080/"
        },
        "id": "Xlp7Xfi32jOt",
        "outputId": "36072696-7654-4b73-9348-20cb55ac5cb8"
      },
      "execution_count": 45,
      "outputs": [
        {
          "output_type": "execute_result",
          "data": {
            "text/plain": [
              "[55, 'DEF', 3, 'Pepcoding', '8']"
            ]
          },
          "metadata": {},
          "execution_count": 45
        }
      ]
    },
    {
      "cell_type": "markdown",
      "source": [
        "###Here we can print list using For loop"
      ],
      "metadata": {
        "id": "4awY7-qJ-9Em"
      }
    },
    {
      "cell_type": "code",
      "source": [
        "for i in lst:\n",
        "  print(i)"
      ],
      "metadata": {
        "colab": {
          "base_uri": "https://localhost:8080/"
        },
        "id": "nWYT1aPY2lFz",
        "outputId": "47404845-a1a8-43af-d54b-7f4c4d9573dd"
      },
      "execution_count": 46,
      "outputs": [
        {
          "output_type": "stream",
          "name": "stdout",
          "text": [
            "55\n",
            "DEF\n",
            "3\n",
            "Pepcoding\n",
            "8\n"
          ]
        }
      ]
    },
    {
      "cell_type": "markdown",
      "source": [
        "###Tuple ( ) :- Python Tuple is a collection of objects separated by commas. In some ways, a tuple is similar to a list in terms of indexing, nested objects, and repetition but a tuple is immutable, unlike lists which are mutable.\n",
        "\n",
        "\n",
        "*   Heterogeneous possible\n",
        "*   Immutable\n",
        "*   scriptable\n",
        "* Ordered\n",
        "\n"
      ],
      "metadata": {
        "id": "fypqohbB5Vnd"
      }
    },
    {
      "cell_type": "code",
      "source": [
        "tup = (1,2,3,\"Hello\")"
      ],
      "metadata": {
        "id": "PyaR_k062qlr"
      },
      "execution_count": 47,
      "outputs": []
    },
    {
      "cell_type": "code",
      "source": [
        "print(type(tup))"
      ],
      "metadata": {
        "colab": {
          "base_uri": "https://localhost:8080/"
        },
        "id": "8KKOvZws6kpw",
        "outputId": "572d642a-9dcb-4576-bb5e-badf499734f1"
      },
      "execution_count": 48,
      "outputs": [
        {
          "output_type": "stream",
          "name": "stdout",
          "text": [
            "<class 'tuple'>\n"
          ]
        }
      ]
    },
    {
      "cell_type": "code",
      "source": [
        "tup = (1,2)"
      ],
      "metadata": {
        "id": "HYjhE_4q6seq"
      },
      "execution_count": 49,
      "outputs": []
    },
    {
      "cell_type": "code",
      "source": [
        "print(type(tup))"
      ],
      "metadata": {
        "colab": {
          "base_uri": "https://localhost:8080/"
        },
        "id": "aLj04Wug6x0-",
        "outputId": "149d6b6a-44da-4065-aea9-91c51a512f15"
      },
      "execution_count": 50,
      "outputs": [
        {
          "output_type": "stream",
          "name": "stdout",
          "text": [
            "<class 'tuple'>\n"
          ]
        }
      ]
    },
    {
      "cell_type": "code",
      "source": [
        "tup = (1)"
      ],
      "metadata": {
        "id": "0RH7ZvYE6zte"
      },
      "execution_count": 51,
      "outputs": []
    },
    {
      "cell_type": "code",
      "source": [
        "print(type(tup))"
      ],
      "metadata": {
        "colab": {
          "base_uri": "https://localhost:8080/"
        },
        "id": "OQrLDvi3623O",
        "outputId": "2fe07ffa-005c-47f8-950e-75a8b499d478"
      },
      "execution_count": 52,
      "outputs": [
        {
          "output_type": "stream",
          "name": "stdout",
          "text": [
            "<class 'int'>\n"
          ]
        }
      ]
    },
    {
      "cell_type": "code",
      "source": [
        "tup = (1,)"
      ],
      "metadata": {
        "id": "8RXM5n1K64Zq"
      },
      "execution_count": 53,
      "outputs": []
    },
    {
      "cell_type": "code",
      "source": [
        "print(type(tup))"
      ],
      "metadata": {
        "colab": {
          "base_uri": "https://localhost:8080/"
        },
        "id": "CO26U42s7AUx",
        "outputId": "591a232e-530f-414f-85ab-b74f6e727731"
      },
      "execution_count": 54,
      "outputs": [
        {
          "output_type": "stream",
          "name": "stdout",
          "text": [
            "<class 'tuple'>\n"
          ]
        }
      ]
    },
    {
      "cell_type": "code",
      "source": [
        "print(tup[0])"
      ],
      "metadata": {
        "colab": {
          "base_uri": "https://localhost:8080/"
        },
        "id": "dxardxPQ7B93",
        "outputId": "35dafbb0-613f-4f5e-ce88-98694d1120f1"
      },
      "execution_count": 55,
      "outputs": [
        {
          "output_type": "stream",
          "name": "stdout",
          "text": [
            "1\n"
          ]
        }
      ]
    },
    {
      "cell_type": "code",
      "source": [
        "tup[0] = 55"
      ],
      "metadata": {
        "colab": {
          "base_uri": "https://localhost:8080/",
          "height": 166
        },
        "id": "Tw4fFR0T7IfM",
        "outputId": "f5ce449f-529b-4ca1-8364-ddaf3a05439f"
      },
      "execution_count": 56,
      "outputs": [
        {
          "output_type": "error",
          "ename": "TypeError",
          "evalue": "ignored",
          "traceback": [
            "\u001b[0;31m---------------------------------------------------------------------------\u001b[0m",
            "\u001b[0;31mTypeError\u001b[0m                                 Traceback (most recent call last)",
            "\u001b[0;32m<ipython-input-56-a79ca4dc1046>\u001b[0m in \u001b[0;36m<module>\u001b[0;34m()\u001b[0m\n\u001b[0;32m----> 1\u001b[0;31m \u001b[0mtup\u001b[0m\u001b[0;34m[\u001b[0m\u001b[0;36m0\u001b[0m\u001b[0;34m]\u001b[0m \u001b[0;34m=\u001b[0m \u001b[0;36m55\u001b[0m\u001b[0;34m\u001b[0m\u001b[0;34m\u001b[0m\u001b[0m\n\u001b[0m",
            "\u001b[0;31mTypeError\u001b[0m: 'tuple' object does not support item assignment"
          ]
        }
      ]
    },
    {
      "cell_type": "markdown",
      "source": [
        "###Using for loop we can print the elements of Tuple "
      ],
      "metadata": {
        "id": "msU1db0p_Qnf"
      }
    },
    {
      "cell_type": "code",
      "source": [
        "for i in tup:\n",
        "  print(i)"
      ],
      "metadata": {
        "colab": {
          "base_uri": "https://localhost:8080/"
        },
        "id": "oJzNHAgI7Kpn",
        "outputId": "c513ad37-47b8-4005-bf44-71f5a6410938"
      },
      "execution_count": 57,
      "outputs": [
        {
          "output_type": "stream",
          "name": "stdout",
          "text": [
            "1\n"
          ]
        }
      ]
    },
    {
      "cell_type": "markdown",
      "source": [
        "###Here we can not append the values in the tuple"
      ],
      "metadata": {
        "id": "TudxDsod_Zd4"
      }
    },
    {
      "cell_type": "code",
      "source": [
        "tup.append(55)"
      ],
      "metadata": {
        "colab": {
          "base_uri": "https://localhost:8080/",
          "height": 170
        },
        "id": "nkQ_OezZ7ed4",
        "outputId": "6790036a-8dbf-4058-cce1-af82d9f73268"
      },
      "execution_count": null,
      "outputs": [
        {
          "output_type": "error",
          "ename": "AttributeError",
          "evalue": "ignored",
          "traceback": [
            "\u001b[0;31m---------------------------------------------------------------------------\u001b[0m",
            "\u001b[0;31mAttributeError\u001b[0m                            Traceback (most recent call last)",
            "\u001b[0;32m<ipython-input-116-39faf80afa67>\u001b[0m in \u001b[0;36m<module>\u001b[0;34m()\u001b[0m\n\u001b[0;32m----> 1\u001b[0;31m \u001b[0mtup\u001b[0m\u001b[0;34m.\u001b[0m\u001b[0mappend\u001b[0m\u001b[0;34m(\u001b[0m\u001b[0;36m55\u001b[0m\u001b[0;34m)\u001b[0m\u001b[0;34m\u001b[0m\u001b[0;34m\u001b[0m\u001b[0m\n\u001b[0m",
            "\u001b[0;31mAttributeError\u001b[0m: 'tuple' object has no attribute 'append'"
          ]
        }
      ]
    },
    {
      "cell_type": "markdown",
      "source": [
        "##Set { } :- A Set is an unordered collection data type that is iterable, mutable and has no duplicate elements. \n",
        "\n",
        "Set is define in { }\n",
        "The major advantage of using a set, as opposed to a list, is that it has a highly optimized method for checking whether a specific element is contained in the set. This is based on a data structure known as a hash table. Since sets are unordered, we cannot access items using indexes like we do in lists.\n",
        "\n",
        "\n",
        "*   Not Scriptable\n",
        "*   Could be Heteregeneous\n",
        "* Not Ordered\n",
        "* Immutable\n",
        "* no Repetitons Allowed\n",
        "\n"
      ],
      "metadata": {
        "id": "nBf4Po1l-9SI"
      }
    },
    {
      "cell_type": "markdown",
      "source": [
        "###Here how can we print set "
      ],
      "metadata": {
        "id": "r6mCRF2C_pQ9"
      }
    },
    {
      "cell_type": "code",
      "source": [
        "st = {\"Apple\",\"Mango\",\"Pineapple\",\"Apple\"}"
      ],
      "metadata": {
        "id": "cWVKTNsn-4iX"
      },
      "execution_count": 58,
      "outputs": []
    },
    {
      "cell_type": "code",
      "source": [
        "st"
      ],
      "metadata": {
        "colab": {
          "base_uri": "https://localhost:8080/"
        },
        "id": "jxHdk98xCqt1",
        "outputId": "6067e6e7-faf5-48f5-92fe-fa31387a0370"
      },
      "execution_count": 59,
      "outputs": [
        {
          "output_type": "execute_result",
          "data": {
            "text/plain": [
              "{'Apple', 'Mango', 'Pineapple'}"
            ]
          },
          "metadata": {},
          "execution_count": 59
        }
      ]
    },
    {
      "cell_type": "code",
      "source": [
        "print(type(st))"
      ],
      "metadata": {
        "colab": {
          "base_uri": "https://localhost:8080/"
        },
        "id": "eVF5v0p-7hzQ",
        "outputId": "7a6782ea-3965-480d-aaf1-2c9935255f5c"
      },
      "execution_count": 60,
      "outputs": [
        {
          "output_type": "stream",
          "name": "stdout",
          "text": [
            "<class 'set'>\n"
          ]
        }
      ]
    },
    {
      "cell_type": "markdown",
      "source": [
        "###Sets are not subscriptable"
      ],
      "metadata": {
        "id": "ZvG4GZei_6CY"
      }
    },
    {
      "cell_type": "code",
      "source": [
        "st[0]"
      ],
      "metadata": {
        "colab": {
          "base_uri": "https://localhost:8080/",
          "height": 166
        },
        "id": "Uc5VtHDX_Igy",
        "outputId": "95d75b3c-666a-4c01-9310-2a27ea8e1a22"
      },
      "execution_count": 65,
      "outputs": [
        {
          "output_type": "error",
          "ename": "TypeError",
          "evalue": "ignored",
          "traceback": [
            "\u001b[0;31m---------------------------------------------------------------------------\u001b[0m",
            "\u001b[0;31mTypeError\u001b[0m                                 Traceback (most recent call last)",
            "\u001b[0;32m<ipython-input-65-028cc1d9138b>\u001b[0m in \u001b[0;36m<module>\u001b[0;34m()\u001b[0m\n\u001b[0;32m----> 1\u001b[0;31m \u001b[0mst\u001b[0m\u001b[0;34m[\u001b[0m\u001b[0;36m0\u001b[0m\u001b[0;34m]\u001b[0m\u001b[0;34m\u001b[0m\u001b[0;34m\u001b[0m\u001b[0m\n\u001b[0m",
            "\u001b[0;31mTypeError\u001b[0m: 'set' object is not subscriptable"
          ]
        }
      ]
    },
    {
      "cell_type": "code",
      "source": [
        "st = {\"Apple\",\"Mango\",\"Pineapple\",5,6,7}"
      ],
      "metadata": {
        "id": "HKxNNx7j_KUh"
      },
      "execution_count": 63,
      "outputs": []
    },
    {
      "cell_type": "code",
      "source": [
        "st"
      ],
      "metadata": {
        "colab": {
          "base_uri": "https://localhost:8080/"
        },
        "id": "m6m0jmL0_Txq",
        "outputId": "d9dfa487-daf3-41cb-8803-85fbff4a9c7f"
      },
      "execution_count": 64,
      "outputs": [
        {
          "output_type": "execute_result",
          "data": {
            "text/plain": [
              "{5, 6, 7, 'Apple', 'Mango', 'Pineapple'}"
            ]
          },
          "metadata": {},
          "execution_count": 64
        }
      ]
    },
    {
      "cell_type": "markdown",
      "source": [
        "###Here we can add values using Add method in sets"
      ],
      "metadata": {
        "id": "1VupSbmzABfn"
      }
    },
    {
      "cell_type": "code",
      "source": [
        "st.add(\"Orange\")"
      ],
      "metadata": {
        "id": "0SgOL8tP_Ugd"
      },
      "execution_count": 66,
      "outputs": []
    },
    {
      "cell_type": "code",
      "source": [
        "st"
      ],
      "metadata": {
        "colab": {
          "base_uri": "https://localhost:8080/"
        },
        "id": "F1BDJYHGAWjW",
        "outputId": "0164f796-006e-4bd8-a540-2299b9865dcf"
      },
      "execution_count": 67,
      "outputs": [
        {
          "output_type": "execute_result",
          "data": {
            "text/plain": [
              "{5, 6, 7, 'Apple', 'Mango', 'Orange', 'Pineapple'}"
            ]
          },
          "metadata": {},
          "execution_count": 67
        }
      ]
    },
    {
      "cell_type": "markdown",
      "source": [
        "###Here we can remove values from set using Remove method"
      ],
      "metadata": {
        "id": "42Ho1uCkAICA"
      }
    },
    {
      "cell_type": "code",
      "source": [
        "st.remove(\"Apple\")"
      ],
      "metadata": {
        "id": "zLxTu5PDAXSh"
      },
      "execution_count": 68,
      "outputs": []
    },
    {
      "cell_type": "code",
      "source": [
        "st"
      ],
      "metadata": {
        "colab": {
          "base_uri": "https://localhost:8080/"
        },
        "id": "y6qLxAnvBdLk",
        "outputId": "b6459681-8bf9-49aa-f362-48da131799ef"
      },
      "execution_count": 69,
      "outputs": [
        {
          "output_type": "execute_result",
          "data": {
            "text/plain": [
              "{5, 6, 7, 'Mango', 'Orange', 'Pineapple'}"
            ]
          },
          "metadata": {},
          "execution_count": 69
        }
      ]
    },
    {
      "cell_type": "code",
      "source": [
        "st = {1,2,3,[\"Apple\",\"orange\"]}"
      ],
      "metadata": {
        "colab": {
          "base_uri": "https://localhost:8080/",
          "height": 166
        },
        "id": "FAykIWr7Bfs1",
        "outputId": "b29fa384-7db2-4c7a-eccf-9ff34f1a4795"
      },
      "execution_count": 72,
      "outputs": [
        {
          "output_type": "error",
          "ename": "TypeError",
          "evalue": "ignored",
          "traceback": [
            "\u001b[0;31m---------------------------------------------------------------------------\u001b[0m",
            "\u001b[0;31mTypeError\u001b[0m                                 Traceback (most recent call last)",
            "\u001b[0;32m<ipython-input-72-1484a43af00d>\u001b[0m in \u001b[0;36m<module>\u001b[0;34m()\u001b[0m\n\u001b[0;32m----> 1\u001b[0;31m \u001b[0mst\u001b[0m \u001b[0;34m=\u001b[0m \u001b[0;34m{\u001b[0m\u001b[0;36m1\u001b[0m\u001b[0;34m,\u001b[0m\u001b[0;36m2\u001b[0m\u001b[0;34m,\u001b[0m\u001b[0;36m3\u001b[0m\u001b[0;34m,\u001b[0m\u001b[0;34m[\u001b[0m\u001b[0;34m\"Apple\"\u001b[0m\u001b[0;34m,\u001b[0m\u001b[0;34m\"orange\"\u001b[0m\u001b[0;34m]\u001b[0m\u001b[0;34m}\u001b[0m\u001b[0;34m\u001b[0m\u001b[0;34m\u001b[0m\u001b[0m\n\u001b[0m",
            "\u001b[0;31mTypeError\u001b[0m: unhashable type: 'list'"
          ]
        }
      ]
    },
    {
      "cell_type": "markdown",
      "source": [
        "###Here we can print all values of set using For loop"
      ],
      "metadata": {
        "id": "ARCmBeXSAYq_"
      }
    },
    {
      "cell_type": "code",
      "source": [
        "for i in st:\n",
        "  print(i)"
      ],
      "metadata": {
        "colab": {
          "base_uri": "https://localhost:8080/"
        },
        "id": "et1SK0CBBpXG",
        "outputId": "2d4ad230-1a4b-49c1-f2f9-17bd609f0c5b"
      },
      "execution_count": 71,
      "outputs": [
        {
          "output_type": "stream",
          "name": "stdout",
          "text": [
            "5\n",
            "6\n",
            "7\n",
            "Pineapple\n",
            "Mango\n",
            "Orange\n"
          ]
        }
      ]
    },
    {
      "cell_type": "markdown",
      "source": [
        "###Here we can delete the values using Pop method"
      ],
      "metadata": {
        "id": "LpOMJxNPAf6r"
      }
    },
    {
      "cell_type": "code",
      "source": [
        "st.pop()"
      ],
      "metadata": {
        "colab": {
          "base_uri": "https://localhost:8080/"
        },
        "id": "MXaSQW4MCQcp",
        "outputId": "4d34831a-5fc3-43a7-b507-5a457ac36327"
      },
      "execution_count": 73,
      "outputs": [
        {
          "output_type": "execute_result",
          "data": {
            "text/plain": [
              "5"
            ]
          },
          "metadata": {},
          "execution_count": 73
        }
      ]
    },
    {
      "cell_type": "markdown",
      "source": [
        "###Here we can clear all the values of set in once using Clear method"
      ],
      "metadata": {
        "id": "KolWiDPkAlrj"
      }
    },
    {
      "cell_type": "code",
      "source": [
        "st.clear()"
      ],
      "metadata": {
        "id": "0yz-hwx6CS89"
      },
      "execution_count": 74,
      "outputs": []
    },
    {
      "cell_type": "code",
      "source": [
        "st"
      ],
      "metadata": {
        "colab": {
          "base_uri": "https://localhost:8080/"
        },
        "id": "KcuqkgYaCdmi",
        "outputId": "a8a1d8a0-a559-4002-a59d-068424bef86d"
      },
      "execution_count": 75,
      "outputs": [
        {
          "output_type": "execute_result",
          "data": {
            "text/plain": [
              "set()"
            ]
          },
          "metadata": {},
          "execution_count": 75
        }
      ]
    },
    {
      "cell_type": "markdown",
      "source": [
        "###Here we can delete the set using Del method"
      ],
      "metadata": {
        "id": "KVrVwKynAw1S"
      }
    },
    {
      "cell_type": "code",
      "source": [
        "del st"
      ],
      "metadata": {
        "id": "VdCHwTzfCeYA"
      },
      "execution_count": 77,
      "outputs": []
    },
    {
      "cell_type": "markdown",
      "source": [
        "###Now here it shows erroe beacause we've already deleted the st "
      ],
      "metadata": {
        "id": "CYFM7qJJA8Nw"
      }
    },
    {
      "cell_type": "code",
      "source": [
        "st"
      ],
      "metadata": {
        "colab": {
          "base_uri": "https://localhost:8080/",
          "height": 166
        },
        "id": "z3nB2PddCfsL",
        "outputId": "6f036872-b3f3-4d33-bc8a-d71548a5c8c5"
      },
      "execution_count": 78,
      "outputs": [
        {
          "output_type": "error",
          "ename": "NameError",
          "evalue": "ignored",
          "traceback": [
            "\u001b[0;31m---------------------------------------------------------------------------\u001b[0m",
            "\u001b[0;31mNameError\u001b[0m                                 Traceback (most recent call last)",
            "\u001b[0;32m<ipython-input-78-235690c2c180>\u001b[0m in \u001b[0;36m<module>\u001b[0;34m()\u001b[0m\n\u001b[0;32m----> 1\u001b[0;31m \u001b[0mst\u001b[0m\u001b[0;34m\u001b[0m\u001b[0;34m\u001b[0m\u001b[0m\n\u001b[0m",
            "\u001b[0;31mNameError\u001b[0m: name 'st' is not defined"
          ]
        }
      ]
    },
    {
      "cell_type": "markdown",
      "source": [
        "##Here we can union two sets using Union method"
      ],
      "metadata": {
        "id": "7mEbw5uaBIpt"
      }
    },
    {
      "cell_type": "code",
      "source": [
        "set1 = {1,2,3,4,5}\n",
        "set2 = {2,5,8,9}\n",
        "\n",
        "print(set1.union(set2))"
      ],
      "metadata": {
        "colab": {
          "base_uri": "https://localhost:8080/"
        },
        "id": "nWy_ab49Cgr8",
        "outputId": "e6a28b00-1d6f-4d52-cad0-8aa6d149544a"
      },
      "execution_count": 79,
      "outputs": [
        {
          "output_type": "stream",
          "name": "stdout",
          "text": [
            "{1, 2, 3, 4, 5, 8, 9}\n"
          ]
        }
      ]
    },
    {
      "cell_type": "markdown",
      "source": [
        "###Here we can assign the values of list into set"
      ],
      "metadata": {
        "id": "UPH6Kz_HBkPu"
      }
    },
    {
      "cell_type": "code",
      "source": [
        "lst = [1,2,3,4,5]"
      ],
      "metadata": {
        "id": "wL8yv7DlCxaE"
      },
      "execution_count": 80,
      "outputs": []
    },
    {
      "cell_type": "code",
      "source": [
        "st = set(lst)"
      ],
      "metadata": {
        "id": "SqzN6fevDayK"
      },
      "execution_count": 81,
      "outputs": []
    },
    {
      "cell_type": "code",
      "source": [
        "st"
      ],
      "metadata": {
        "colab": {
          "base_uri": "https://localhost:8080/"
        },
        "id": "ee0wLjE6DcAj",
        "outputId": "e54c4fe9-1228-44f9-a940-d8248fc2ac9f"
      },
      "execution_count": 82,
      "outputs": [
        {
          "output_type": "execute_result",
          "data": {
            "text/plain": [
              "{1, 2, 3, 4, 5}"
            ]
          },
          "metadata": {},
          "execution_count": 82
        }
      ]
    },
    {
      "cell_type": "markdown",
      "source": [
        "###Here we can assign the values of list to the new list variable"
      ],
      "metadata": {
        "id": "1TZYF34gBrI1"
      }
    },
    {
      "cell_type": "code",
      "source": [
        "lst2 = list(st)"
      ],
      "metadata": {
        "id": "8QVYy7myDcuO"
      },
      "execution_count": 83,
      "outputs": []
    },
    {
      "cell_type": "code",
      "source": [
        "lst2"
      ],
      "metadata": {
        "colab": {
          "base_uri": "https://localhost:8080/"
        },
        "id": "8R3PKOEZDfWy",
        "outputId": "b1beeff5-40bf-4bc8-f91f-9c26501a734c"
      },
      "execution_count": 84,
      "outputs": [
        {
          "output_type": "execute_result",
          "data": {
            "text/plain": [
              "[1, 2, 3, 4, 5]"
            ]
          },
          "metadata": {},
          "execution_count": 84
        }
      ]
    },
    {
      "cell_type": "markdown",
      "source": [
        "###Here we can clear the values of set using Clear method"
      ],
      "metadata": {
        "id": "x2PcTZ9dB1HS"
      }
    },
    {
      "cell_type": "code",
      "source": [
        ""
      ],
      "metadata": {
        "id": "uI0Yfib_B_e5"
      },
      "execution_count": null,
      "outputs": []
    },
    {
      "cell_type": "code",
      "source": [
        "st.clear()"
      ],
      "metadata": {
        "id": "hfX2p7K1DgCS"
      },
      "execution_count": 85,
      "outputs": []
    },
    {
      "cell_type": "code",
      "source": [
        "st"
      ],
      "metadata": {
        "colab": {
          "base_uri": "https://localhost:8080/"
        },
        "id": "Z1rCJVVCDsL_",
        "outputId": "03e0771e-dd76-4ae2-d81a-73d0a0b481c0"
      },
      "execution_count": 86,
      "outputs": [
        {
          "output_type": "execute_result",
          "data": {
            "text/plain": [
              "set()"
            ]
          },
          "metadata": {},
          "execution_count": 86
        }
      ]
    },
    {
      "cell_type": "markdown",
      "source": [
        "###Dictionarires :- Dictionary in Python is a collection of keys values, used to store data values like a map, which, unlike other data types which hold only a single value as an element.\n",
        "In Python, a dictionary can be created by placing a sequence of elements within curly {} braces, separated by ‘comma’. Dictionary holds pairs of values, one being the Key and the other corresponding pair element being its Key:value. Values in a dictionary can be of any data type and can be duplicated, whereas keys can’t be repeated and must be immutable. \n",
        "\n",
        "Note – Dictionary keys are case sensitive, the same name but different cases of Key will be treated distinctly. "
      ],
      "metadata": {
        "id": "tbn5ueCtHQCZ"
      }
    },
    {
      "cell_type": "code",
      "source": [
        "dict1={'Name':\"Kunal\",\n",
        "       \"Team\":\"HotDev\"}"
      ],
      "metadata": {
        "id": "xyG-33u7G5it"
      },
      "execution_count": 87,
      "outputs": []
    },
    {
      "cell_type": "code",
      "source": [
        "dict1"
      ],
      "metadata": {
        "id": "bXJBmdF0H2Pv",
        "outputId": "fda779a3-9b37-4705-a431-6e73ef7b973f",
        "colab": {
          "base_uri": "https://localhost:8080/"
        }
      },
      "execution_count": 88,
      "outputs": [
        {
          "output_type": "execute_result",
          "data": {
            "text/plain": [
              "{'Name': 'Kunal', 'Team': 'HotDev'}"
            ]
          },
          "metadata": {},
          "execution_count": 88
        }
      ]
    },
    {
      "cell_type": "code",
      "source": [
        "type(dict1)"
      ],
      "metadata": {
        "id": "lAKaZAdEH6Yt",
        "outputId": "20c815c8-4eac-42a3-f0a7-e9470cdff9ae",
        "colab": {
          "base_uri": "https://localhost:8080/"
        }
      },
      "execution_count": 89,
      "outputs": [
        {
          "output_type": "execute_result",
          "data": {
            "text/plain": [
              "dict"
            ]
          },
          "metadata": {},
          "execution_count": 89
        }
      ]
    },
    {
      "cell_type": "markdown",
      "source": [
        "###Dictionaries are:\n",
        "1. Ordered (After python 3.7)\n",
        "2. Not Indexed \n",
        "3. Mutable (Values can be changed)\n",
        "4. No Duplicate values"
      ],
      "metadata": {
        "id": "9z0tYU7sH_GK"
      }
    },
    {
      "cell_type": "code",
      "source": [
        "dict2={\n",
        "    'A':1,\n",
        "    'C':'Kunal',\n",
        "    'B':[1,2,3],\n",
        "    'A':3\n",
        "}"
      ],
      "metadata": {
        "id": "DMYfIuU1H-EO"
      },
      "execution_count": 90,
      "outputs": []
    },
    {
      "cell_type": "code",
      "source": [
        "dict2"
      ],
      "metadata": {
        "id": "GIB2CD41ISYL",
        "outputId": "9e4a84cb-88ee-42f4-8ab3-b1721f9dba95",
        "colab": {
          "base_uri": "https://localhost:8080/"
        }
      },
      "execution_count": 91,
      "outputs": [
        {
          "output_type": "execute_result",
          "data": {
            "text/plain": [
              "{'A': 3, 'B': [1, 2, 3], 'C': 'Kunal'}"
            ]
          },
          "metadata": {},
          "execution_count": 91
        }
      ]
    },
    {
      "cell_type": "code",
      "source": [
        "dict2[\"A\"]"
      ],
      "metadata": {
        "id": "FrW7IDCPIUaX",
        "outputId": "fc071f83-784c-43ad-8fe8-307a1e72f87f",
        "colab": {
          "base_uri": "https://localhost:8080/"
        }
      },
      "execution_count": 92,
      "outputs": [
        {
          "output_type": "execute_result",
          "data": {
            "text/plain": [
              "3"
            ]
          },
          "metadata": {},
          "execution_count": 92
        }
      ]
    },
    {
      "cell_type": "code",
      "source": [
        "dict2['C']='Aman'"
      ],
      "metadata": {
        "id": "G0yCkX57IXl9"
      },
      "execution_count": 93,
      "outputs": []
    },
    {
      "cell_type": "code",
      "source": [
        "dict2"
      ],
      "metadata": {
        "id": "Q_3shVwkIhpT",
        "outputId": "ea804fd0-1a3e-4332-d0ee-94d1cb0102fe",
        "colab": {
          "base_uri": "https://localhost:8080/"
        }
      },
      "execution_count": 94,
      "outputs": [
        {
          "output_type": "execute_result",
          "data": {
            "text/plain": [
              "{'A': 3, 'B': [1, 2, 3], 'C': 'Aman'}"
            ]
          },
          "metadata": {},
          "execution_count": 94
        }
      ]
    },
    {
      "cell_type": "code",
      "source": [
        "dict2['A']=1"
      ],
      "metadata": {
        "id": "Rg08JCl1IlB6"
      },
      "execution_count": 95,
      "outputs": []
    },
    {
      "cell_type": "code",
      "source": [
        "dict2"
      ],
      "metadata": {
        "id": "kDbRbnsbImQ6",
        "outputId": "ed87588f-c733-43ba-a7b5-56c7e5037b2d",
        "colab": {
          "base_uri": "https://localhost:8080/"
        }
      },
      "execution_count": 96,
      "outputs": [
        {
          "output_type": "execute_result",
          "data": {
            "text/plain": [
              "{'A': 1, 'B': [1, 2, 3], 'C': 'Aman'}"
            ]
          },
          "metadata": {},
          "execution_count": 96
        }
      ]
    },
    {
      "cell_type": "code",
      "source": [
        "type(dict2['B'])"
      ],
      "metadata": {
        "id": "3iZsdMIgIq0P",
        "outputId": "f81ed391-e314-48c4-cdc1-63e7f6891d6f",
        "colab": {
          "base_uri": "https://localhost:8080/"
        }
      },
      "execution_count": 97,
      "outputs": [
        {
          "output_type": "execute_result",
          "data": {
            "text/plain": [
              "list"
            ]
          },
          "metadata": {},
          "execution_count": 97
        }
      ]
    },
    {
      "cell_type": "code",
      "source": [
        "dict2['B'][1]"
      ],
      "metadata": {
        "id": "Nr3fVQFfIuV8",
        "outputId": "d2847890-84fc-48d0-f7cb-11117f8659f1",
        "colab": {
          "base_uri": "https://localhost:8080/"
        }
      },
      "execution_count": 98,
      "outputs": [
        {
          "output_type": "execute_result",
          "data": {
            "text/plain": [
              "2"
            ]
          },
          "metadata": {},
          "execution_count": 98
        }
      ]
    },
    {
      "cell_type": "code",
      "source": [
        "dict2"
      ],
      "metadata": {
        "id": "a0VTQXs6IxaB",
        "outputId": "03ff746d-2fc2-4526-bab6-a8c7101e9cc4",
        "colab": {
          "base_uri": "https://localhost:8080/"
        }
      },
      "execution_count": 99,
      "outputs": [
        {
          "output_type": "execute_result",
          "data": {
            "text/plain": [
              "{'A': 1, 'B': [1, 2, 3], 'C': 'Aman'}"
            ]
          },
          "metadata": {},
          "execution_count": 99
        }
      ]
    },
    {
      "cell_type": "code",
      "source": [
        "dict2.keys()"
      ],
      "metadata": {
        "id": "n11Ymb5yI2dH",
        "outputId": "8d73440d-3acc-4bb3-a890-4b1db2e6f466",
        "colab": {
          "base_uri": "https://localhost:8080/"
        }
      },
      "execution_count": 100,
      "outputs": [
        {
          "output_type": "execute_result",
          "data": {
            "text/plain": [
              "dict_keys(['A', 'C', 'B'])"
            ]
          },
          "metadata": {},
          "execution_count": 100
        }
      ]
    },
    {
      "cell_type": "code",
      "source": [
        "dict2.values()"
      ],
      "metadata": {
        "id": "ij23-Jp-I8rd",
        "outputId": "5ced0e05-7122-46c2-bd85-ff068322339a",
        "colab": {
          "base_uri": "https://localhost:8080/"
        }
      },
      "execution_count": 101,
      "outputs": [
        {
          "output_type": "execute_result",
          "data": {
            "text/plain": [
              "dict_values([1, 'Aman', [1, 2, 3]])"
            ]
          },
          "metadata": {},
          "execution_count": 101
        }
      ]
    },
    {
      "cell_type": "code",
      "source": [
        "for i in dict2.values():\n",
        "  print(i)"
      ],
      "metadata": {
        "id": "9_HL57whI_uh",
        "outputId": "6c1f6c9f-e344-4cd6-ed41-1690d490a96e",
        "colab": {
          "base_uri": "https://localhost:8080/"
        }
      },
      "execution_count": 102,
      "outputs": [
        {
          "output_type": "stream",
          "name": "stdout",
          "text": [
            "1\n",
            "Aman\n",
            "[1, 2, 3]\n"
          ]
        }
      ]
    },
    {
      "cell_type": "code",
      "source": [
        "for i,j in dict2.items():\n",
        "  print(i,j)"
      ],
      "metadata": {
        "id": "Btf1lFIqJBeY",
        "outputId": "93a56fda-b1de-4e87-d56d-35f63009c617",
        "colab": {
          "base_uri": "https://localhost:8080/"
        }
      },
      "execution_count": 103,
      "outputs": [
        {
          "output_type": "stream",
          "name": "stdout",
          "text": [
            "A 1\n",
            "C Aman\n",
            "B [1, 2, 3]\n"
          ]
        }
      ]
    },
    {
      "cell_type": "code",
      "source": [
        "for i,j in zip(dict2.values(),dict2.keys()):\n",
        "  print(i,j)"
      ],
      "metadata": {
        "id": "Fd26hEkiJE-3",
        "outputId": "15bb8cd8-d741-4906-f314-06f076853500",
        "colab": {
          "base_uri": "https://localhost:8080/"
        }
      },
      "execution_count": 104,
      "outputs": [
        {
          "output_type": "stream",
          "name": "stdout",
          "text": [
            "1 A\n",
            "Aman C\n",
            "[1, 2, 3] B\n"
          ]
        }
      ]
    },
    {
      "cell_type": "code",
      "source": [
        "dict2.items()"
      ],
      "metadata": {
        "id": "6Jhi8wzuJJTr",
        "outputId": "27141f66-f55c-4abe-a08e-8b4f501c8dc5",
        "colab": {
          "base_uri": "https://localhost:8080/"
        }
      },
      "execution_count": 105,
      "outputs": [
        {
          "output_type": "execute_result",
          "data": {
            "text/plain": [
              "dict_items([('A', 1), ('C', 'Aman'), ('B', [1, 2, 3])])"
            ]
          },
          "metadata": {},
          "execution_count": 105
        }
      ]
    },
    {
      "cell_type": "markdown",
      "source": [
        "Ques 1:- Make one Dictionary Which has a number 1 to 5 as a key and it's square as a value\n",
        "\n",
        "dict ={\n",
        "    \"1\":1,\n",
        "    '2':4,\n",
        "    '3':9,\n",
        "    '4':16,\n",
        "    '5':25\n",
        "}\n",
        "\n",
        "\n",
        "Ques2 :-- Given a dictionary in Python WAP to find the sum of all items in the dictionary"
      ],
      "metadata": {
        "id": "up2ZQLgIJR8X"
      }
    },
    {
      "cell_type": "code",
      "source": [
        "dict4={val:val*val for val in range(1,6)}"
      ],
      "metadata": {
        "id": "lAvXPvjxJWQG"
      },
      "execution_count": 107,
      "outputs": []
    },
    {
      "cell_type": "code",
      "source": [
        "dict4"
      ],
      "metadata": {
        "id": "KdTq3S7dJZCN",
        "outputId": "96b6745e-ae26-489f-8ab6-c200511254f1",
        "colab": {
          "base_uri": "https://localhost:8080/"
        }
      },
      "execution_count": 108,
      "outputs": [
        {
          "output_type": "execute_result",
          "data": {
            "text/plain": [
              "{1: 1, 2: 4, 3: 9, 4: 16, 5: 25}"
            ]
          },
          "metadata": {},
          "execution_count": 108
        }
      ]
    },
    {
      "cell_type": "code",
      "source": [
        "sum1=sum(dict4.values())"
      ],
      "metadata": {
        "id": "Are7YsOmJbt6"
      },
      "execution_count": 109,
      "outputs": []
    },
    {
      "cell_type": "code",
      "source": [
        "sum1"
      ],
      "metadata": {
        "id": "v3izKU0PJ6ux",
        "outputId": "eb2b21b6-54ff-4932-cf75-2453f1731b70",
        "colab": {
          "base_uri": "https://localhost:8080/"
        }
      },
      "execution_count": 110,
      "outputs": [
        {
          "output_type": "execute_result",
          "data": {
            "text/plain": [
              "55"
            ]
          },
          "metadata": {},
          "execution_count": 110
        }
      ]
    },
    {
      "cell_type": "code",
      "source": [
        "dict5=dict4"
      ],
      "metadata": {
        "id": "gJViLTZ-LCFw"
      },
      "execution_count": 111,
      "outputs": []
    },
    {
      "cell_type": "code",
      "source": [
        "dict5"
      ],
      "metadata": {
        "id": "L0DEReRpLILK",
        "outputId": "4a8f4442-d6bc-48c2-8af0-ab7082a00188",
        "colab": {
          "base_uri": "https://localhost:8080/"
        }
      },
      "execution_count": 112,
      "outputs": [
        {
          "output_type": "execute_result",
          "data": {
            "text/plain": [
              "{1: 1, 2: 4, 3: 9, 4: 16, 5: 25}"
            ]
          },
          "metadata": {},
          "execution_count": 112
        }
      ]
    },
    {
      "cell_type": "code",
      "source": [
        "dict5=dict()"
      ],
      "metadata": {
        "id": "Y0qt-FihMOvt"
      },
      "execution_count": 113,
      "outputs": []
    },
    {
      "cell_type": "code",
      "source": [
        "dict5"
      ],
      "metadata": {
        "id": "hBtFzNZLMaYJ",
        "outputId": "12946ffb-a80f-4e45-833e-739cf750b6df",
        "colab": {
          "base_uri": "https://localhost:8080/"
        }
      },
      "execution_count": 114,
      "outputs": [
        {
          "output_type": "execute_result",
          "data": {
            "text/plain": [
              "{}"
            ]
          },
          "metadata": {},
          "execution_count": 114
        }
      ]
    },
    {
      "cell_type": "code",
      "source": [
        "dict4"
      ],
      "metadata": {
        "id": "Goaeq66vMe-w",
        "outputId": "9f625e60-3a66-4a53-f2eb-2328996508cd",
        "colab": {
          "base_uri": "https://localhost:8080/"
        }
      },
      "execution_count": 115,
      "outputs": [
        {
          "output_type": "execute_result",
          "data": {
            "text/plain": [
              "{1: 1, 2: 4, 3: 9, 4: 16, 5: 25}"
            ]
          },
          "metadata": {},
          "execution_count": 115
        }
      ]
    },
    {
      "cell_type": "code",
      "source": [
        "dict4={}\n",
        "for i in range(1,7):\n",
        "  dict4[i]=i*i\n",
        "dict4\n"
      ],
      "metadata": {
        "id": "ic1iexuXMi8P",
        "outputId": "6d3dd468-bb19-4ae3-c349-a54d9924b721",
        "colab": {
          "base_uri": "https://localhost:8080/"
        }
      },
      "execution_count": 116,
      "outputs": [
        {
          "output_type": "execute_result",
          "data": {
            "text/plain": [
              "{1: 1, 2: 4, 3: 9, 4: 16, 5: 25, 6: 36}"
            ]
          },
          "metadata": {},
          "execution_count": 116
        }
      ]
    },
    {
      "cell_type": "markdown",
      "source": [
        "###Exception Handling :- Error in Python can be of two types i.e. Syntax errors and Exceptions. Errors are the problems in a program due to which the program will stop the execution. On the other hand, exceptions are raised when some internal events occur which changes the normal flow of the program. \n",
        "\n",
        "Syntax Error: As the name suggests this error is caused by the wrong syntax in the code. It leads to the termination of the program. \n",
        "\n",
        "Exceptions: Exceptions are raised when the program is syntactically correct, but the code resulted in an error. This error does not stop the execution of the program, however, it changes the normal flow of the program.\n",
        "\n"
      ],
      "metadata": {
        "id": "B-cJPkMSMmo_"
      }
    },
    {
      "cell_type": "code",
      "source": [
        "Here is the code of without try catch\n",
        "a=5\n",
        "b=6\n",
        "c=a/0\n",
        "\n",
        "try:\n",
        "  print(\"7\")\n",
        "except:\n",
        "  print(\"line\")\n",
        "\n"
      ],
      "metadata": {
        "id": "lificoVdMsTi",
        "outputId": "697ecda6-38b5-4083-9b27-6d8e3c17e951",
        "colab": {
          "base_uri": "https://localhost:8080/",
          "height": 235
        }
      },
      "execution_count": 117,
      "outputs": [
        {
          "output_type": "error",
          "ename": "ZeroDivisionError",
          "evalue": "ignored",
          "traceback": [
            "\u001b[0;31m---------------------------------------------------------------------------\u001b[0m",
            "\u001b[0;31mZeroDivisionError\u001b[0m                         Traceback (most recent call last)",
            "\u001b[0;32m<ipython-input-117-7c2083d3360c>\u001b[0m in \u001b[0;36m<module>\u001b[0;34m()\u001b[0m\n\u001b[1;32m      2\u001b[0m \u001b[0ma\u001b[0m\u001b[0;34m=\u001b[0m\u001b[0;36m5\u001b[0m\u001b[0;34m\u001b[0m\u001b[0;34m\u001b[0m\u001b[0m\n\u001b[1;32m      3\u001b[0m \u001b[0mb\u001b[0m\u001b[0;34m=\u001b[0m\u001b[0;36m6\u001b[0m\u001b[0;34m\u001b[0m\u001b[0;34m\u001b[0m\u001b[0m\n\u001b[0;32m----> 4\u001b[0;31m \u001b[0mc\u001b[0m\u001b[0;34m=\u001b[0m\u001b[0ma\u001b[0m\u001b[0;34m/\u001b[0m\u001b[0;36m0\u001b[0m\u001b[0;34m\u001b[0m\u001b[0;34m\u001b[0m\u001b[0m\n\u001b[0m\u001b[1;32m      5\u001b[0m \u001b[0;34m\u001b[0m\u001b[0m\n\u001b[1;32m      6\u001b[0m \u001b[0;32mtry\u001b[0m\u001b[0;34m:\u001b[0m\u001b[0;34m\u001b[0m\u001b[0;34m\u001b[0m\u001b[0m\n",
            "\u001b[0;31mZeroDivisionError\u001b[0m: division by zero"
          ]
        }
      ]
    },
    {
      "cell_type": "code",
      "source": [
        "try:\n",
        "  a=5\n",
        "  b=6\n",
        "  c=a/0\n",
        "except:\n",
        "  print(\"Zero Divide\")\n",
        "finally:\n",
        "  print(\"Program End\")"
      ],
      "metadata": {
        "id": "lMwqbz9WQ2yg",
        "outputId": "fb5f97cf-8a6e-4ff6-a2be-208a2ee6ced8",
        "colab": {
          "base_uri": "https://localhost:8080/"
        }
      },
      "execution_count": 122,
      "outputs": [
        {
          "output_type": "stream",
          "name": "stdout",
          "text": [
            "Zero Divide\n",
            "Program End\n"
          ]
        }
      ]
    },
    {
      "cell_type": "code",
      "source": [
        "try:\n",
        "  a=5\n",
        "  b=6\n",
        "  c=a/b\n",
        "except:\n",
        "  print(\"Zero Divide\")\n",
        "else:\n",
        "  print(\"Continue\")\n",
        "finally:\n",
        "  print(\"Program End\")"
      ],
      "metadata": {
        "id": "SWYPwOMGSIql",
        "outputId": "ffcd0f6f-d34e-4f21-a49d-db322add268e",
        "colab": {
          "base_uri": "https://localhost:8080/"
        }
      },
      "execution_count": 123,
      "outputs": [
        {
          "output_type": "stream",
          "name": "stdout",
          "text": [
            "Continue\n",
            "Program End\n"
          ]
        }
      ]
    },
    {
      "cell_type": "markdown",
      "source": [
        "1. first try will run\n",
        "2. if try become false then except will run\n",
        "3. if except becomes false or try becomes true else will run\n",
        "4. finally always running"
      ],
      "metadata": {
        "id": "UkMAqav7RUU4"
      }
    },
    {
      "cell_type": "markdown",
      "source": [
        "###Oops :- In Python, object-oriented Programming (OOPs) is a programming paradigm that uses objects and classes in programming. It aims to implement real-world entities like inheritance, polymorphisms, encapsulation, etc. in the programming. The main concept of OOPs is to bind the data and the functions that work on that together as a single unit so that no other part of the code can access this data.\n",
        "Main Concepts of Object-Oriented Programming (OOPs) \n",
        "1. Class\n",
        "2. Objects\n",
        "3. Polymorphism\n",
        "4. Encapsulation\n",
        "5. Inheritance\n",
        "6. Data Abstraction"
      ],
      "metadata": {
        "id": "twuqS_YJTW44"
      }
    },
    {
      "cell_type": "markdown",
      "source": [
        "##Class :- A class is a user-defined blueprint or prototype from which objects are created. Classes provide a means of bundling data and functionality together. Creating a new class creates a new type of object, allowing new instances of that type to be made. Each class instance can have attributes attached to it for maintaining its state. Class instances can also have methods (defined by their class) for modifying their state."
      ],
      "metadata": {
        "id": "FZsNlbc1Tz2Z"
      }
    },
    {
      "cell_type": "code",
      "source": [
        "class Phone:\n",
        "  a=10\n",
        "  b=5\n",
        "  def initilization(ayushi,X):\n",
        "    ayushi.a=X\n",
        "    ayushi.d=X\n",
        "  def video(kunal):\n",
        "    print(\"the phone has v call feature\")\n",
        "    print(kunal.a)\n",
        "    print(kunal.d)"
      ],
      "metadata": {
        "id": "EWc-6BIdRQQL"
      },
      "execution_count": 120,
      "outputs": []
    },
    {
      "cell_type": "markdown",
      "source": [
        "##Objects :- An Object is an instance of a Class. A class is like a blueprint while an instance is a copy of the class with actual values. It’s not an idea anymore, it’s an actual dog, like a dog of breed pug who’s seven years old. You can have many dogs to create many different instances, but without the class as a guide, you would be lost, not knowing what information is required.\n",
        "\n",
        "An object consists of : \n",
        "\n",
        "State: It is represented by the attributes of an object. It also reflects the properties of an object.\n",
        "Behavior: It is represented by the methods of an object. It also reflects the response of an object to other objects.\n",
        "Identity: It gives a unique name to an object and enables one object to interact with other objects."
      ],
      "metadata": {
        "id": "hmrlPO6RUgBr"
      }
    },
    {
      "cell_type": "code",
      "source": [
        "p1=Phone()"
      ],
      "metadata": {
        "id": "WKo7K-CjSs5d"
      },
      "execution_count": 124,
      "outputs": []
    },
    {
      "cell_type": "code",
      "source": [
        "p1.initilization(20)"
      ],
      "metadata": {
        "id": "WJcJepuNSuYk"
      },
      "execution_count": 125,
      "outputs": []
    },
    {
      "cell_type": "code",
      "source": [
        "p1.d"
      ],
      "metadata": {
        "id": "OXUEQrg1SzgA",
        "outputId": "42ab3873-13f0-43eb-b4e8-d7df3879bb35",
        "colab": {
          "base_uri": "https://localhost:8080/"
        }
      },
      "execution_count": 126,
      "outputs": [
        {
          "output_type": "execute_result",
          "data": {
            "text/plain": [
              "20"
            ]
          },
          "metadata": {},
          "execution_count": 126
        }
      ]
    },
    {
      "cell_type": "code",
      "source": [
        "p1.video()"
      ],
      "metadata": {
        "id": "9zogwSc-S10R",
        "outputId": "ad403b46-dfd0-4271-9d75-fac109d2a196",
        "colab": {
          "base_uri": "https://localhost:8080/"
        }
      },
      "execution_count": 127,
      "outputs": [
        {
          "output_type": "stream",
          "name": "stdout",
          "text": [
            "the phone has v call feature\n",
            "20\n",
            "20\n"
          ]
        }
      ]
    },
    {
      "cell_type": "code",
      "source": [
        "class Phone2:\n",
        "  def __init__(self,brand,color):\n",
        "    self.brand=brand\n",
        "    self.color=color\n",
        "  def printing(self):\n",
        "    print(\"i have \"+self.brand+\" in color \"+self.color)\n",
        "  def xyz(kunal):\n",
        "    print(\"abc\")\n"
      ],
      "metadata": {
        "id": "fz3cbOwQS7eV"
      },
      "execution_count": 128,
      "outputs": []
    },
    {
      "cell_type": "code",
      "source": [
        "class Phone3(Phone2):\n",
        "  def __init__(self,brand,color,ram,rom):\n",
        "    super().__init__(brand,color)\n",
        "    self.ram=ram\n",
        "    self.rom=rom\n",
        "  def Printing2(self):\n",
        "    print(\"m hu child class\")\n",
        "    print(self.ram)\n",
        "    print(self.rom)"
      ],
      "metadata": {
        "id": "-fqKbGmQS_I3"
      },
      "execution_count": 129,
      "outputs": []
    },
    {
      "cell_type": "code",
      "source": [
        "p3=Phone3(\"Samsung\",\"White\",\"16 Gb\",\"256 Gb\")"
      ],
      "metadata": {
        "id": "HL46LPS_TB7y"
      },
      "execution_count": 130,
      "outputs": []
    },
    {
      "cell_type": "code",
      "source": [
        "p3.printing()"
      ],
      "metadata": {
        "id": "AifFamB2TGXk",
        "outputId": "07c12646-cbf3-4704-ba3a-067ee2addbfa",
        "colab": {
          "base_uri": "https://localhost:8080/"
        }
      },
      "execution_count": 131,
      "outputs": [
        {
          "output_type": "stream",
          "name": "stdout",
          "text": [
            "i have Samsung in color White\n"
          ]
        }
      ]
    },
    {
      "cell_type": "code",
      "source": [
        "p3.Printing2()"
      ],
      "metadata": {
        "id": "nhVzA8OFTIx7",
        "outputId": "183855f9-9a05-45d6-eba1-5cd37ee1a9e0",
        "colab": {
          "base_uri": "https://localhost:8080/"
        }
      },
      "execution_count": 132,
      "outputs": [
        {
          "output_type": "stream",
          "name": "stdout",
          "text": [
            "m hu child class\n",
            "16 Gb\n",
            "256 Gb\n"
          ]
        }
      ]
    }
  ]
}