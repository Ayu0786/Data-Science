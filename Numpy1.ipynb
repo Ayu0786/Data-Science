{
  "nbformat": 4,
  "nbformat_minor": 0,
  "metadata": {
    "colab": {
      "name": "Numpy1.ipynb",
      "provenance": [],
      "collapsed_sections": [],
      "authorship_tag": "ABX9TyP8Rzc61oMGqRAv4JeWLAND",
      "include_colab_link": true
    },
    "kernelspec": {
      "name": "python3",
      "display_name": "Python 3"
    },
    "language_info": {
      "name": "python"
    }
  },
  "cells": [
    {
      "cell_type": "markdown",
      "metadata": {
        "id": "view-in-github",
        "colab_type": "text"
      },
      "source": [
        "<a href=\"https://colab.research.google.com/github/Ayu0786/Data-Science/blob/main/Numpy1.ipynb\" target=\"_parent\"><img src=\"https://colab.research.google.com/assets/colab-badge.svg\" alt=\"Open In Colab\"/></a>"
      ]
    },
    {
      "cell_type": "markdown",
      "source": [
        "##Numpy : Numpy is a general-purpose array-processing package. It provides a high-performance multidimensional array object, and tools for working with these arrays. It is the fundamental package for scientific computing with Python.\n"
      ],
      "metadata": {
        "id": "cujz6EtvWZTk"
      }
    },
    {
      "cell_type": "markdown",
      "source": [
        "#Here we import Numpy"
      ],
      "metadata": {
        "id": "2WHvA6EHez99"
      }
    },
    {
      "cell_type": "code",
      "execution_count": null,
      "metadata": {
        "id": "Ox0nOLeZe7Bz"
      },
      "outputs": [],
      "source": [
        "import numpy as np"
      ]
    },
    {
      "cell_type": "markdown",
      "source": [
        "#Creating a Numpy Array\n",
        "Arrays in Numpy can be created by multiple ways, with various number of Ranks, defining the size of the Array. Arrays can also be created with the use of various data types such as lists, tuples, etc. The type of the resultant array is deduced from the type of the elements in the sequences"
      ],
      "metadata": {
        "id": "TFGbd7P9iU-0"
      }
    },
    {
      "cell_type": "markdown",
      "source": [
        "![image.png](data:image/png;base64,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)"
      ],
      "metadata": {
        "id": "lBTacwKZqZz5"
      }
    },
    {
      "cell_type": "code",
      "source": [
        "arr = np.array([1,2,3,4,5]) "
      ],
      "metadata": {
        "id": "Lao4v5wvfJlp"
      },
      "execution_count": null,
      "outputs": []
    },
    {
      "cell_type": "markdown",
      "source": [
        "#Here we can check Type of Array"
      ],
      "metadata": {
        "id": "zOmAsjmFe6C-"
      }
    },
    {
      "cell_type": "code",
      "source": [
        "print(type(arr))"
      ],
      "metadata": {
        "colab": {
          "base_uri": "https://localhost:8080/"
        },
        "id": "OOyDFk72gRTm",
        "outputId": "cce4045a-5453-41a2-e6d9-17b90873ade8"
      },
      "execution_count": null,
      "outputs": [
        {
          "output_type": "stream",
          "name": "stdout",
          "text": [
            "<class 'numpy.ndarray'>\n"
          ]
        }
      ]
    },
    {
      "cell_type": "markdown",
      "source": [
        "#Here we can check N Dimensions Using (ndim)"
      ],
      "metadata": {
        "id": "IaahNaGefHt9"
      }
    },
    {
      "cell_type": "code",
      "source": [
        "print(arr.ndim)"
      ],
      "metadata": {
        "colab": {
          "base_uri": "https://localhost:8080/"
        },
        "id": "vV4lFeqngWJI",
        "outputId": "8ce4e9f8-ff60-46cd-d205-e9a4709b414d"
      },
      "execution_count": null,
      "outputs": [
        {
          "output_type": "stream",
          "name": "stdout",
          "text": [
            "1\n"
          ]
        }
      ]
    },
    {
      "cell_type": "markdown",
      "source": [
        "#Here we can check DataType of Nump Array Using (dtype)"
      ],
      "metadata": {
        "id": "v_xnblMkfTo2"
      }
    },
    {
      "cell_type": "code",
      "source": [
        "arr.dtype"
      ],
      "metadata": {
        "colab": {
          "base_uri": "https://localhost:8080/"
        },
        "id": "H8zZqAergcMA",
        "outputId": "8f2e2850-55bc-4fcf-f0d2-b50c3af944b3"
      },
      "execution_count": null,
      "outputs": [
        {
          "output_type": "execute_result",
          "data": {
            "text/plain": [
              "dtype('int64')"
            ]
          },
          "metadata": {},
          "execution_count": 5
        }
      ]
    },
    {
      "cell_type": "markdown",
      "source": [
        "#Here we can convert DataType \"int64\" into \"unit8\""
      ],
      "metadata": {
        "id": "-KiCYWSzfgWu"
      }
    },
    {
      "cell_type": "code",
      "source": [
        "arr = np.array([1,2,3,4,5],dtype=\"uint8\")"
      ],
      "metadata": {
        "id": "lqOkJGHkgx-u"
      },
      "execution_count": null,
      "outputs": []
    },
    {
      "cell_type": "code",
      "source": [
        "arr.dtype"
      ],
      "metadata": {
        "colab": {
          "base_uri": "https://localhost:8080/"
        },
        "id": "Y2Oarmj8hUOU",
        "outputId": "a6e56025-9daf-4540-fa57-da67c592b546"
      },
      "execution_count": null,
      "outputs": [
        {
          "output_type": "execute_result",
          "data": {
            "text/plain": [
              "dtype('uint8')"
            ]
          },
          "metadata": {},
          "execution_count": 7
        }
      ]
    },
    {
      "cell_type": "code",
      "source": [
        "arr = np.array([1,2,3,4,5,6.6])"
      ],
      "metadata": {
        "id": "otpUSYhuhYly"
      },
      "execution_count": null,
      "outputs": []
    },
    {
      "cell_type": "markdown",
      "source": [
        "#Here it is Convert Complete Array (int) into (float) Because of one value in Array"
      ],
      "metadata": {
        "id": "vfoUXHQ2f1zn"
      }
    },
    {
      "cell_type": "code",
      "source": [
        "arr.dtype"
      ],
      "metadata": {
        "colab": {
          "base_uri": "https://localhost:8080/"
        },
        "id": "2N6S5VTDhqTt",
        "outputId": "9881f9dd-d246-40d0-eea6-a6fcdf3e788f"
      },
      "execution_count": null,
      "outputs": [
        {
          "output_type": "execute_result",
          "data": {
            "text/plain": [
              "dtype('float64')"
            ]
          },
          "metadata": {},
          "execution_count": 9
        }
      ]
    },
    {
      "cell_type": "code",
      "source": [
        "lst = [1]*10000"
      ],
      "metadata": {
        "id": "ZiphOkAAhx8q"
      },
      "execution_count": null,
      "outputs": []
    },
    {
      "cell_type": "markdown",
      "source": [
        "#Here we can Check type of list using (type) and check Length of List using (len)"
      ],
      "metadata": {
        "id": "xHEq-NzdgHWP"
      }
    },
    {
      "cell_type": "code",
      "source": [
        "print(lst)\n",
        "print(len(lst))\n",
        "print(type(lst))"
      ],
      "metadata": {
        "colab": {
          "base_uri": "https://localhost:8080/"
        },
        "id": "likU1h4Kh3AN",
        "outputId": "d7cc8068-e05a-49c2-c097-502e04259612"
      },
      "execution_count": null,
      "outputs": [
        {
          "output_type": "stream",
          "name": "stdout",
          "text": [
            "[1, 1, 1, 1, 1, 1, 1, 1, 1, 1, 1, 1, 1, 1, 1, 1, 1, 1, 1, 1, 1, 1, 1, 1, 1, 1, 1, 1, 1, 1, 1, 1, 1, 1, 1, 1, 1, 1, 1, 1, 1, 1, 1, 1, 1, 1, 1, 1, 1, 1, 1, 1, 1, 1, 1, 1, 1, 1, 1, 1, 1, 1, 1, 1, 1, 1, 1, 1, 1, 1, 1, 1, 1, 1, 1, 1, 1, 1, 1, 1, 1, 1, 1, 1, 1, 1, 1, 1, 1, 1, 1, 1, 1, 1, 1, 1, 1, 1, 1, 1, 1, 1, 1, 1, 1, 1, 1, 1, 1, 1, 1, 1, 1, 1, 1, 1, 1, 1, 1, 1, 1, 1, 1, 1, 1, 1, 1, 1, 1, 1, 1, 1, 1, 1, 1, 1, 1, 1, 1, 1, 1, 1, 1, 1, 1, 1, 1, 1, 1, 1, 1, 1, 1, 1, 1, 1, 1, 1, 1, 1, 1, 1, 1, 1, 1, 1, 1, 1, 1, 1, 1, 1, 1, 1, 1, 1, 1, 1, 1, 1, 1, 1, 1, 1, 1, 1, 1, 1, 1, 1, 1, 1, 1, 1, 1, 1, 1, 1, 1, 1, 1, 1, 1, 1, 1, 1, 1, 1, 1, 1, 1, 1, 1, 1, 1, 1, 1, 1, 1, 1, 1, 1, 1, 1, 1, 1, 1, 1, 1, 1, 1, 1, 1, 1, 1, 1, 1, 1, 1, 1, 1, 1, 1, 1, 1, 1, 1, 1, 1, 1, 1, 1, 1, 1, 1, 1, 1, 1, 1, 1, 1, 1, 1, 1, 1, 1, 1, 1, 1, 1, 1, 1, 1, 1, 1, 1, 1, 1, 1, 1, 1, 1, 1, 1, 1, 1, 1, 1, 1, 1, 1, 1, 1, 1, 1, 1, 1, 1, 1, 1, 1, 1, 1, 1, 1, 1, 1, 1, 1, 1, 1, 1, 1, 1, 1, 1, 1, 1, 1, 1, 1, 1, 1, 1, 1, 1, 1, 1, 1, 1, 1, 1, 1, 1, 1, 1, 1, 1, 1, 1, 1, 1, 1, 1, 1, 1, 1, 1, 1, 1, 1, 1, 1, 1, 1, 1, 1, 1, 1, 1, 1, 1, 1, 1, 1, 1, 1, 1, 1, 1, 1, 1, 1, 1, 1, 1, 1, 1, 1, 1, 1, 1, 1, 1, 1, 1, 1, 1, 1, 1, 1, 1, 1, 1, 1, 1, 1, 1, 1, 1, 1, 1, 1, 1, 1, 1, 1, 1, 1, 1, 1, 1, 1, 1, 1, 1, 1, 1, 1, 1, 1, 1, 1, 1, 1, 1, 1, 1, 1, 1, 1, 1, 1, 1, 1, 1, 1, 1, 1, 1, 1, 1, 1, 1, 1, 1, 1, 1, 1, 1, 1, 1, 1, 1, 1, 1, 1, 1, 1, 1, 1, 1, 1, 1, 1, 1, 1, 1, 1, 1, 1, 1, 1, 1, 1, 1, 1, 1, 1, 1, 1, 1, 1, 1, 1, 1, 1, 1, 1, 1, 1, 1, 1, 1, 1, 1, 1, 1, 1, 1, 1, 1, 1, 1, 1, 1, 1, 1, 1, 1, 1, 1, 1, 1, 1, 1, 1, 1, 1, 1, 1, 1, 1, 1, 1, 1, 1, 1, 1, 1, 1, 1, 1, 1, 1, 1, 1, 1, 1, 1, 1, 1, 1, 1, 1, 1, 1, 1, 1, 1, 1, 1, 1, 1, 1, 1, 1, 1, 1, 1, 1, 1, 1, 1, 1, 1, 1, 1, 1, 1, 1, 1, 1, 1, 1, 1, 1, 1, 1, 1, 1, 1, 1, 1, 1, 1, 1, 1, 1, 1, 1, 1, 1, 1, 1, 1, 1, 1, 1, 1, 1, 1, 1, 1, 1, 1, 1, 1, 1, 1, 1, 1, 1, 1, 1, 1, 1, 1, 1, 1, 1, 1, 1, 1, 1, 1, 1, 1, 1, 1, 1, 1, 1, 1, 1, 1, 1, 1, 1, 1, 1, 1, 1, 1, 1, 1, 1, 1, 1, 1, 1, 1, 1, 1, 1, 1, 1, 1, 1, 1, 1, 1, 1, 1, 1, 1, 1, 1, 1, 1, 1, 1, 1, 1, 1, 1, 1, 1, 1, 1, 1, 1, 1, 1, 1, 1, 1, 1, 1, 1, 1, 1, 1, 1, 1, 1, 1, 1, 1, 1, 1, 1, 1, 1, 1, 1, 1, 1, 1, 1, 1, 1, 1, 1, 1, 1, 1, 1, 1, 1, 1, 1, 1, 1, 1, 1, 1, 1, 1, 1, 1, 1, 1, 1, 1, 1, 1, 1, 1, 1, 1, 1, 1, 1, 1, 1, 1, 1, 1, 1, 1, 1, 1, 1, 1, 1, 1, 1, 1, 1, 1, 1, 1, 1, 1, 1, 1, 1, 1, 1, 1, 1, 1, 1, 1, 1, 1, 1, 1, 1, 1, 1, 1, 1, 1, 1, 1, 1, 1, 1, 1, 1, 1, 1, 1, 1, 1, 1, 1, 1, 1, 1, 1, 1, 1, 1, 1, 1, 1, 1, 1, 1, 1, 1, 1, 1, 1, 1, 1, 1, 1, 1, 1, 1, 1, 1, 1, 1, 1, 1, 1, 1, 1, 1, 1, 1, 1, 1, 1, 1, 1, 1, 1, 1, 1, 1, 1, 1, 1, 1, 1, 1, 1, 1, 1, 1, 1, 1, 1, 1, 1, 1, 1, 1, 1, 1, 1, 1, 1, 1, 1, 1, 1, 1, 1, 1, 1, 1, 1, 1, 1, 1, 1, 1, 1, 1, 1, 1, 1, 1, 1, 1, 1, 1, 1, 1, 1, 1, 1, 1, 1, 1, 1, 1, 1, 1, 1, 1, 1, 1, 1, 1, 1, 1, 1, 1, 1, 1, 1, 1, 1, 1, 1, 1, 1, 1, 1, 1, 1, 1, 1, 1, 1, 1, 1, 1, 1, 1, 1, 1, 1, 1, 1, 1, 1, 1, 1, 1, 1, 1, 1, 1, 1, 1, 1, 1, 1, 1, 1, 1, 1, 1, 1, 1, 1, 1, 1, 1, 1, 1, 1, 1, 1, 1, 1, 1, 1, 1, 1, 1, 1, 1, 1, 1, 1, 1, 1, 1, 1, 1, 1, 1, 1, 1, 1, 1, 1, 1, 1, 1, 1, 1, 1, 1, 1, 1, 1, 1, 1, 1, 1, 1, 1, 1, 1, 1, 1, 1, 1, 1, 1, 1, 1, 1, 1, 1, 1, 1, 1, 1, 1, 1, 1, 1, 1, 1, 1, 1, 1, 1, 1, 1, 1, 1, 1, 1, 1, 1, 1, 1, 1, 1, 1, 1, 1, 1, 1, 1, 1, 1, 1, 1, 1, 1, 1, 1, 1, 1, 1, 1, 1, 1, 1, 1, 1, 1, 1, 1, 1, 1, 1, 1, 1, 1, 1, 1, 1, 1, 1, 1, 1, 1, 1, 1, 1, 1, 1, 1, 1, 1, 1, 1, 1, 1, 1, 1, 1, 1, 1, 1, 1, 1, 1, 1, 1, 1, 1, 1, 1, 1, 1, 1, 1, 1, 1, 1, 1, 1, 1, 1, 1, 1, 1, 1, 1, 1, 1, 1, 1, 1, 1, 1, 1, 1, 1, 1, 1, 1, 1, 1, 1, 1, 1, 1, 1, 1, 1, 1, 1, 1, 1, 1, 1, 1, 1, 1, 1, 1, 1, 1, 1, 1, 1, 1, 1, 1, 1, 1, 1, 1, 1, 1, 1, 1, 1, 1, 1, 1, 1, 1, 1, 1, 1, 1, 1, 1, 1, 1, 1, 1, 1, 1, 1, 1, 1, 1, 1, 1, 1, 1, 1, 1, 1, 1, 1, 1, 1, 1, 1, 1, 1, 1, 1, 1, 1, 1, 1, 1, 1, 1, 1, 1, 1, 1, 1, 1, 1, 1, 1, 1, 1, 1, 1, 1, 1, 1, 1, 1, 1, 1, 1, 1, 1, 1, 1, 1, 1, 1, 1, 1, 1, 1, 1, 1, 1, 1, 1, 1, 1, 1, 1, 1, 1, 1, 1, 1, 1, 1, 1, 1, 1, 1, 1, 1, 1, 1, 1, 1, 1, 1, 1, 1, 1, 1, 1, 1, 1, 1, 1, 1, 1, 1, 1, 1, 1, 1, 1, 1, 1, 1, 1, 1, 1, 1, 1, 1, 1, 1, 1, 1, 1, 1, 1, 1, 1, 1, 1, 1, 1, 1, 1, 1, 1, 1, 1, 1, 1, 1, 1, 1, 1, 1, 1, 1, 1, 1, 1, 1, 1, 1, 1, 1, 1, 1, 1, 1, 1, 1, 1, 1, 1, 1, 1, 1, 1, 1, 1, 1, 1, 1, 1, 1, 1, 1, 1, 1, 1, 1, 1, 1, 1, 1, 1, 1, 1, 1, 1, 1, 1, 1, 1, 1, 1, 1, 1, 1, 1, 1, 1, 1, 1, 1, 1, 1, 1, 1, 1, 1, 1, 1, 1, 1, 1, 1, 1, 1, 1, 1, 1, 1, 1, 1, 1, 1, 1, 1, 1, 1, 1, 1, 1, 1, 1, 1, 1, 1, 1, 1, 1, 1, 1, 1, 1, 1, 1, 1, 1, 1, 1, 1, 1, 1, 1, 1, 1, 1, 1, 1, 1, 1, 1, 1, 1, 1, 1, 1, 1, 1, 1, 1, 1, 1, 1, 1, 1, 1, 1, 1, 1, 1, 1, 1, 1, 1, 1, 1, 1, 1, 1, 1, 1, 1, 1, 1, 1, 1, 1, 1, 1, 1, 1, 1, 1, 1, 1, 1, 1, 1, 1, 1, 1, 1, 1, 1, 1, 1, 1, 1, 1, 1, 1, 1, 1, 1, 1, 1, 1, 1, 1, 1, 1, 1, 1, 1, 1, 1, 1, 1, 1, 1, 1, 1, 1, 1, 1, 1, 1, 1, 1, 1, 1, 1, 1, 1, 1, 1, 1, 1, 1, 1, 1, 1, 1, 1, 1, 1, 1, 1, 1, 1, 1, 1, 1, 1, 1, 1, 1, 1, 1, 1, 1, 1, 1, 1, 1, 1, 1, 1, 1, 1, 1, 1, 1, 1, 1, 1, 1, 1, 1, 1, 1, 1, 1, 1, 1, 1, 1, 1, 1, 1, 1, 1, 1, 1, 1, 1, 1, 1, 1, 1, 1, 1, 1, 1, 1, 1, 1, 1, 1, 1, 1, 1, 1, 1, 1, 1, 1, 1, 1, 1, 1, 1, 1, 1, 1, 1, 1, 1, 1, 1, 1, 1, 1, 1, 1, 1, 1, 1, 1, 1, 1, 1, 1, 1, 1, 1, 1, 1, 1, 1, 1, 1, 1, 1, 1, 1, 1, 1, 1, 1, 1, 1, 1, 1, 1, 1, 1, 1, 1, 1, 1, 1, 1, 1, 1, 1, 1, 1, 1, 1, 1, 1, 1, 1, 1, 1, 1, 1, 1, 1, 1, 1, 1, 1, 1, 1, 1, 1, 1, 1, 1, 1, 1, 1, 1, 1, 1, 1, 1, 1, 1, 1, 1, 1, 1, 1, 1, 1, 1, 1, 1, 1, 1, 1, 1, 1, 1, 1, 1, 1, 1, 1, 1, 1, 1, 1, 1, 1, 1, 1, 1, 1, 1, 1, 1, 1, 1, 1, 1, 1, 1, 1, 1, 1, 1, 1, 1, 1, 1, 1, 1, 1, 1, 1, 1, 1, 1, 1, 1, 1, 1, 1, 1, 1, 1, 1, 1, 1, 1, 1, 1, 1, 1, 1, 1, 1, 1, 1, 1, 1, 1, 1, 1, 1, 1, 1, 1, 1, 1, 1, 1, 1, 1, 1, 1, 1, 1, 1, 1, 1, 1, 1, 1, 1, 1, 1, 1, 1, 1, 1, 1, 1, 1, 1, 1, 1, 1, 1, 1, 1, 1, 1, 1, 1, 1, 1, 1, 1, 1, 1, 1, 1, 1, 1, 1, 1, 1, 1, 1, 1, 1, 1, 1, 1, 1, 1, 1, 1, 1, 1, 1, 1, 1, 1, 1, 1, 1, 1, 1, 1, 1, 1, 1, 1, 1, 1, 1, 1, 1, 1, 1, 1, 1, 1, 1, 1, 1, 1, 1, 1, 1, 1, 1, 1, 1, 1, 1, 1, 1, 1, 1, 1, 1, 1, 1, 1, 1, 1, 1, 1, 1, 1, 1, 1, 1, 1, 1, 1, 1, 1, 1, 1, 1, 1, 1, 1, 1, 1, 1, 1, 1, 1, 1, 1, 1, 1, 1, 1, 1, 1, 1, 1, 1, 1, 1, 1, 1, 1, 1, 1, 1, 1, 1, 1, 1, 1, 1, 1, 1, 1, 1, 1, 1, 1, 1, 1, 1, 1, 1, 1, 1, 1, 1, 1, 1, 1, 1, 1, 1, 1, 1, 1, 1, 1, 1, 1, 1, 1, 1, 1, 1, 1, 1, 1, 1, 1, 1, 1, 1, 1, 1, 1, 1, 1, 1, 1, 1, 1, 1, 1, 1, 1, 1, 1, 1, 1, 1, 1, 1, 1, 1, 1, 1, 1, 1, 1, 1, 1, 1, 1, 1, 1, 1, 1, 1, 1, 1, 1, 1, 1, 1, 1, 1, 1, 1, 1, 1, 1, 1, 1, 1, 1, 1, 1, 1, 1, 1, 1, 1, 1, 1, 1, 1, 1, 1, 1, 1, 1, 1, 1, 1, 1, 1, 1, 1, 1, 1, 1, 1, 1, 1, 1, 1, 1, 1, 1, 1, 1, 1, 1, 1, 1, 1, 1, 1, 1, 1, 1, 1, 1, 1, 1, 1, 1, 1, 1, 1, 1, 1, 1, 1, 1, 1, 1, 1, 1, 1, 1, 1, 1, 1, 1, 1, 1, 1, 1, 1, 1, 1, 1, 1, 1, 1, 1, 1, 1, 1, 1, 1, 1, 1, 1, 1, 1, 1, 1, 1, 1, 1, 1, 1, 1, 1, 1, 1, 1, 1, 1, 1, 1, 1, 1, 1, 1, 1, 1, 1, 1, 1, 1, 1, 1, 1, 1, 1, 1, 1, 1, 1, 1, 1, 1, 1, 1, 1, 1, 1, 1, 1, 1, 1, 1, 1, 1, 1, 1, 1, 1, 1, 1, 1, 1, 1, 1, 1, 1, 1, 1, 1, 1, 1, 1, 1, 1, 1, 1, 1, 1, 1, 1, 1, 1, 1, 1, 1, 1, 1, 1, 1, 1, 1, 1, 1, 1, 1, 1, 1, 1, 1, 1, 1, 1, 1, 1, 1, 1, 1, 1, 1, 1, 1, 1, 1, 1, 1, 1, 1, 1, 1, 1, 1, 1, 1, 1, 1, 1, 1, 1, 1, 1, 1, 1, 1, 1, 1, 1, 1, 1, 1, 1, 1, 1, 1, 1, 1, 1, 1, 1, 1, 1, 1, 1, 1, 1, 1, 1, 1, 1, 1, 1, 1, 1, 1, 1, 1, 1, 1, 1, 1, 1, 1, 1, 1, 1, 1, 1, 1, 1, 1, 1, 1, 1, 1, 1, 1, 1, 1, 1, 1, 1, 1, 1, 1, 1, 1, 1, 1, 1, 1, 1, 1, 1, 1, 1, 1, 1, 1, 1, 1, 1, 1, 1, 1, 1, 1, 1, 1, 1, 1, 1, 1, 1, 1, 1, 1, 1, 1, 1, 1, 1, 1, 1, 1, 1, 1, 1, 1, 1, 1, 1, 1, 1, 1, 1, 1, 1, 1, 1, 1, 1, 1, 1, 1, 1, 1, 1, 1, 1, 1, 1, 1, 1, 1, 1, 1, 1, 1, 1, 1, 1, 1, 1, 1, 1, 1, 1, 1, 1, 1, 1, 1, 1, 1, 1, 1, 1, 1, 1, 1, 1, 1, 1, 1, 1, 1, 1, 1, 1, 1, 1, 1, 1, 1, 1, 1, 1, 1, 1, 1, 1, 1, 1, 1, 1, 1, 1, 1, 1, 1, 1, 1, 1, 1, 1, 1, 1, 1, 1, 1, 1, 1, 1, 1, 1, 1, 1, 1, 1, 1, 1, 1, 1, 1, 1, 1, 1, 1, 1, 1, 1, 1, 1, 1, 1, 1, 1, 1, 1, 1, 1, 1, 1, 1, 1, 1, 1, 1, 1, 1, 1, 1, 1, 1, 1, 1, 1, 1, 1, 1, 1, 1, 1, 1, 1, 1, 1, 1, 1, 1, 1, 1, 1, 1, 1, 1, 1, 1, 1, 1, 1, 1, 1, 1, 1, 1, 1, 1, 1, 1, 1, 1, 1, 1, 1, 1, 1, 1, 1, 1, 1, 1, 1, 1, 1, 1, 1, 1, 1, 1, 1, 1, 1, 1, 1, 1, 1, 1, 1, 1, 1, 1, 1, 1, 1, 1, 1, 1, 1, 1, 1, 1, 1, 1, 1, 1, 1, 1, 1, 1, 1, 1, 1, 1, 1, 1, 1, 1, 1, 1, 1, 1, 1, 1, 1, 1, 1, 1, 1, 1, 1, 1, 1, 1, 1, 1, 1, 1, 1, 1, 1, 1, 1, 1, 1, 1, 1, 1, 1, 1, 1, 1, 1, 1, 1, 1, 1, 1, 1, 1, 1, 1, 1, 1, 1, 1, 1, 1, 1, 1, 1, 1, 1, 1, 1, 1, 1, 1, 1, 1, 1, 1, 1, 1, 1, 1, 1, 1, 1, 1, 1, 1, 1, 1, 1, 1, 1, 1, 1, 1, 1, 1, 1, 1, 1, 1, 1, 1, 1, 1, 1, 1, 1, 1, 1, 1, 1, 1, 1, 1, 1, 1, 1, 1, 1, 1, 1, 1, 1, 1, 1, 1, 1, 1, 1, 1, 1, 1, 1, 1, 1, 1, 1, 1, 1, 1, 1, 1, 1, 1, 1, 1, 1, 1, 1, 1, 1, 1, 1, 1, 1, 1, 1, 1, 1, 1, 1, 1, 1, 1, 1, 1, 1, 1, 1, 1, 1, 1, 1, 1, 1, 1, 1, 1, 1, 1, 1, 1, 1, 1, 1, 1, 1, 1, 1, 1, 1, 1, 1, 1, 1, 1, 1, 1, 1, 1, 1, 1, 1, 1, 1, 1, 1, 1, 1, 1, 1, 1, 1, 1, 1, 1, 1, 1, 1, 1, 1, 1, 1, 1, 1, 1, 1, 1, 1, 1, 1, 1, 1, 1, 1, 1, 1, 1, 1, 1, 1, 1, 1, 1, 1, 1, 1, 1, 1, 1, 1, 1, 1, 1, 1, 1, 1, 1, 1, 1, 1, 1, 1, 1, 1, 1, 1, 1, 1, 1, 1, 1, 1, 1, 1, 1, 1, 1, 1, 1, 1, 1, 1, 1, 1, 1, 1, 1, 1, 1, 1, 1, 1, 1, 1, 1, 1, 1, 1, 1, 1, 1, 1, 1, 1, 1, 1, 1, 1, 1, 1, 1, 1, 1, 1, 1, 1, 1, 1, 1, 1, 1, 1, 1, 1, 1, 1, 1, 1, 1, 1, 1, 1, 1, 1, 1, 1, 1, 1, 1, 1, 1, 1, 1, 1, 1, 1, 1, 1, 1, 1, 1, 1, 1, 1, 1, 1, 1, 1, 1, 1, 1, 1, 1, 1, 1, 1, 1, 1, 1, 1, 1, 1, 1, 1, 1, 1, 1, 1, 1, 1, 1, 1, 1, 1, 1, 1, 1, 1, 1, 1, 1, 1, 1, 1, 1, 1, 1, 1, 1, 1, 1, 1, 1, 1, 1, 1, 1, 1, 1, 1, 1, 1, 1, 1, 1, 1, 1, 1, 1, 1, 1, 1, 1, 1, 1, 1, 1, 1, 1, 1, 1, 1, 1, 1, 1, 1, 1, 1, 1, 1, 1, 1, 1, 1, 1, 1, 1, 1, 1, 1, 1, 1, 1, 1, 1, 1, 1, 1, 1, 1, 1, 1, 1, 1, 1, 1, 1, 1, 1, 1, 1, 1, 1, 1, 1, 1, 1, 1, 1, 1, 1, 1, 1, 1, 1, 1, 1, 1, 1, 1, 1, 1, 1, 1, 1, 1, 1, 1, 1, 1, 1, 1, 1, 1, 1, 1, 1, 1, 1, 1, 1, 1, 1, 1, 1, 1, 1, 1, 1, 1, 1, 1, 1, 1, 1, 1, 1, 1, 1, 1, 1, 1, 1, 1, 1, 1, 1, 1, 1, 1, 1, 1, 1, 1, 1, 1, 1, 1, 1, 1, 1, 1, 1, 1, 1, 1, 1, 1, 1, 1, 1, 1, 1, 1, 1, 1, 1, 1, 1, 1, 1, 1, 1, 1, 1, 1, 1, 1, 1, 1, 1, 1, 1, 1, 1, 1, 1, 1, 1, 1, 1, 1, 1, 1, 1, 1, 1, 1, 1, 1, 1, 1, 1, 1, 1, 1, 1, 1, 1, 1, 1, 1, 1, 1, 1, 1, 1, 1, 1, 1, 1, 1, 1, 1, 1, 1, 1, 1, 1, 1, 1, 1, 1, 1, 1, 1, 1, 1, 1, 1, 1, 1, 1, 1, 1, 1, 1, 1, 1, 1, 1, 1, 1, 1, 1, 1, 1, 1, 1, 1, 1, 1, 1, 1, 1, 1, 1, 1, 1, 1, 1, 1, 1, 1, 1, 1, 1, 1, 1, 1, 1, 1, 1, 1, 1, 1, 1, 1, 1, 1, 1, 1, 1, 1, 1, 1, 1, 1, 1, 1, 1, 1, 1, 1, 1, 1, 1, 1, 1, 1, 1, 1, 1, 1, 1, 1, 1, 1, 1, 1, 1, 1, 1, 1, 1, 1, 1, 1, 1, 1, 1, 1, 1, 1, 1, 1, 1, 1, 1, 1, 1, 1, 1, 1, 1, 1, 1, 1, 1, 1, 1, 1, 1, 1, 1, 1, 1, 1, 1, 1, 1, 1, 1, 1, 1, 1, 1, 1, 1, 1, 1, 1, 1, 1, 1, 1, 1, 1, 1, 1, 1, 1, 1, 1, 1, 1, 1, 1, 1, 1, 1, 1, 1, 1, 1, 1, 1, 1, 1, 1, 1, 1, 1, 1, 1, 1, 1, 1, 1, 1, 1, 1, 1, 1, 1, 1, 1, 1, 1, 1, 1, 1, 1, 1, 1, 1, 1, 1, 1, 1, 1, 1, 1, 1, 1, 1, 1, 1, 1, 1, 1, 1, 1, 1, 1, 1, 1, 1, 1, 1, 1, 1, 1, 1, 1, 1, 1, 1, 1, 1, 1, 1, 1, 1, 1, 1, 1, 1, 1, 1, 1, 1, 1, 1, 1, 1, 1, 1, 1, 1, 1, 1, 1, 1, 1, 1, 1, 1, 1, 1, 1, 1, 1, 1, 1, 1, 1, 1, 1, 1, 1, 1, 1, 1, 1, 1, 1, 1, 1, 1, 1, 1, 1, 1, 1, 1, 1, 1, 1, 1, 1, 1, 1, 1, 1, 1, 1, 1, 1, 1, 1, 1, 1, 1, 1, 1, 1, 1, 1, 1, 1, 1, 1, 1, 1, 1, 1, 1, 1, 1, 1, 1, 1, 1, 1, 1, 1, 1, 1, 1, 1, 1, 1, 1, 1, 1, 1, 1, 1, 1, 1, 1, 1, 1, 1, 1, 1, 1, 1, 1, 1, 1, 1, 1, 1, 1, 1, 1, 1, 1, 1, 1, 1, 1, 1, 1, 1, 1, 1, 1, 1, 1, 1, 1, 1, 1, 1, 1, 1, 1, 1, 1, 1, 1, 1, 1, 1, 1, 1, 1, 1, 1, 1, 1, 1, 1, 1, 1, 1, 1, 1, 1, 1, 1, 1, 1, 1, 1, 1, 1, 1, 1, 1, 1, 1, 1, 1, 1, 1, 1, 1, 1, 1, 1, 1, 1, 1, 1, 1, 1, 1, 1, 1, 1, 1, 1, 1, 1, 1, 1, 1, 1, 1, 1, 1, 1, 1, 1, 1, 1, 1, 1, 1, 1, 1, 1, 1, 1, 1, 1, 1, 1, 1, 1, 1, 1, 1, 1, 1, 1, 1, 1, 1, 1, 1, 1, 1, 1, 1, 1, 1, 1, 1, 1, 1, 1, 1, 1, 1, 1, 1, 1, 1, 1, 1, 1, 1, 1, 1, 1, 1, 1, 1, 1, 1, 1, 1, 1, 1, 1, 1, 1, 1, 1, 1, 1, 1, 1, 1, 1, 1, 1, 1, 1, 1, 1, 1, 1, 1, 1, 1, 1, 1, 1, 1, 1, 1, 1, 1, 1, 1, 1, 1, 1, 1, 1, 1, 1, 1, 1, 1, 1, 1, 1, 1, 1, 1, 1, 1, 1, 1, 1, 1, 1, 1, 1, 1, 1, 1, 1, 1, 1, 1, 1, 1, 1, 1, 1, 1, 1, 1, 1, 1, 1, 1, 1, 1, 1, 1, 1, 1, 1, 1, 1, 1, 1, 1, 1, 1, 1, 1, 1, 1, 1, 1, 1, 1, 1, 1, 1, 1, 1, 1, 1, 1, 1, 1, 1, 1, 1, 1, 1, 1, 1, 1, 1, 1, 1, 1, 1, 1, 1, 1, 1, 1, 1, 1, 1, 1, 1, 1, 1, 1, 1, 1, 1, 1, 1, 1, 1, 1, 1, 1, 1, 1, 1, 1, 1, 1, 1, 1, 1, 1, 1, 1, 1, 1, 1, 1, 1, 1, 1, 1, 1, 1, 1, 1, 1, 1, 1, 1, 1, 1, 1, 1, 1, 1, 1, 1, 1, 1, 1, 1, 1, 1, 1, 1, 1, 1, 1, 1, 1, 1, 1, 1, 1, 1, 1, 1, 1, 1, 1, 1, 1, 1, 1, 1, 1, 1, 1, 1, 1, 1, 1, 1, 1, 1, 1, 1, 1, 1, 1, 1, 1, 1, 1, 1, 1, 1, 1, 1, 1, 1, 1, 1, 1, 1, 1, 1, 1, 1, 1, 1, 1, 1, 1, 1, 1, 1, 1, 1, 1, 1, 1, 1, 1, 1, 1, 1, 1, 1, 1, 1, 1, 1, 1, 1, 1, 1, 1, 1, 1, 1, 1, 1, 1, 1, 1, 1, 1, 1, 1, 1, 1, 1, 1, 1, 1, 1, 1, 1, 1, 1, 1, 1, 1, 1, 1, 1, 1, 1, 1, 1, 1, 1, 1, 1, 1, 1, 1, 1, 1, 1, 1, 1, 1, 1, 1, 1, 1, 1, 1, 1, 1, 1, 1, 1, 1, 1, 1, 1, 1, 1, 1, 1, 1, 1, 1, 1, 1, 1, 1, 1, 1, 1, 1, 1, 1, 1, 1, 1, 1, 1, 1, 1, 1, 1, 1, 1, 1, 1, 1, 1, 1, 1, 1, 1, 1, 1, 1, 1, 1, 1, 1, 1, 1, 1, 1, 1, 1, 1, 1, 1, 1, 1, 1, 1, 1, 1, 1, 1, 1, 1, 1, 1, 1, 1, 1, 1, 1, 1, 1, 1, 1, 1, 1, 1, 1, 1, 1, 1, 1, 1, 1, 1, 1, 1, 1, 1, 1, 1, 1, 1, 1, 1, 1, 1, 1, 1, 1, 1, 1, 1, 1, 1, 1, 1, 1, 1, 1, 1, 1, 1, 1, 1, 1, 1, 1, 1, 1, 1, 1, 1, 1, 1, 1, 1, 1, 1, 1, 1, 1, 1, 1, 1, 1, 1, 1, 1, 1, 1, 1, 1, 1, 1, 1, 1, 1, 1, 1, 1, 1, 1, 1, 1, 1, 1, 1, 1, 1, 1, 1, 1, 1, 1, 1, 1, 1, 1, 1, 1, 1, 1, 1, 1, 1, 1, 1, 1, 1, 1, 1, 1, 1, 1, 1, 1, 1, 1, 1, 1, 1, 1, 1, 1, 1, 1, 1, 1, 1, 1, 1, 1, 1, 1, 1, 1, 1, 1, 1, 1, 1, 1, 1, 1, 1, 1, 1, 1, 1, 1, 1, 1, 1, 1, 1, 1, 1, 1, 1, 1, 1, 1, 1, 1, 1, 1, 1, 1, 1, 1, 1, 1, 1, 1, 1, 1, 1, 1, 1, 1, 1, 1, 1, 1, 1, 1, 1, 1, 1, 1, 1, 1, 1, 1, 1, 1, 1, 1, 1, 1, 1, 1, 1, 1, 1, 1, 1, 1, 1, 1, 1, 1, 1, 1, 1, 1, 1, 1, 1, 1, 1, 1, 1, 1, 1, 1, 1, 1, 1, 1, 1, 1, 1, 1, 1, 1, 1, 1, 1, 1, 1, 1, 1, 1, 1, 1, 1, 1, 1, 1, 1, 1, 1, 1, 1, 1, 1, 1, 1, 1, 1, 1, 1, 1, 1, 1, 1, 1, 1, 1, 1, 1, 1, 1, 1, 1, 1, 1, 1, 1, 1, 1, 1, 1, 1, 1, 1, 1, 1, 1, 1, 1, 1, 1, 1, 1, 1, 1, 1, 1, 1, 1, 1, 1, 1, 1, 1, 1, 1, 1, 1, 1, 1, 1, 1, 1, 1, 1, 1, 1, 1, 1, 1, 1, 1, 1, 1, 1, 1, 1, 1, 1, 1, 1, 1, 1, 1, 1, 1, 1, 1, 1, 1, 1, 1, 1, 1, 1, 1, 1, 1, 1, 1, 1, 1, 1, 1, 1, 1, 1, 1, 1, 1, 1, 1, 1, 1, 1, 1, 1, 1, 1, 1, 1, 1, 1, 1, 1, 1, 1, 1, 1, 1, 1, 1, 1, 1, 1, 1, 1, 1, 1, 1, 1, 1, 1, 1, 1, 1, 1, 1, 1, 1, 1, 1, 1, 1, 1, 1, 1, 1, 1, 1, 1, 1, 1, 1, 1, 1, 1, 1, 1, 1, 1, 1, 1, 1, 1, 1, 1, 1, 1, 1, 1, 1, 1, 1, 1, 1, 1, 1, 1, 1, 1, 1, 1, 1, 1, 1, 1, 1, 1, 1, 1, 1, 1, 1, 1, 1, 1, 1, 1, 1, 1, 1, 1, 1, 1, 1, 1, 1, 1, 1, 1, 1, 1, 1, 1, 1, 1, 1, 1, 1, 1, 1, 1, 1, 1, 1, 1, 1, 1, 1, 1, 1, 1, 1, 1, 1, 1, 1, 1, 1, 1, 1, 1, 1, 1, 1, 1, 1, 1, 1, 1, 1, 1, 1, 1, 1, 1, 1, 1, 1, 1, 1, 1, 1, 1, 1, 1, 1, 1, 1, 1, 1, 1, 1, 1, 1, 1, 1, 1, 1, 1, 1, 1, 1, 1, 1, 1, 1, 1, 1, 1, 1, 1, 1, 1, 1, 1, 1, 1, 1, 1, 1, 1, 1, 1, 1, 1, 1, 1, 1, 1, 1, 1, 1, 1, 1, 1, 1, 1, 1, 1, 1, 1, 1, 1, 1, 1, 1, 1, 1, 1, 1, 1, 1, 1, 1, 1, 1, 1, 1, 1, 1, 1, 1, 1, 1, 1, 1, 1, 1, 1, 1, 1, 1, 1, 1, 1, 1, 1, 1, 1, 1, 1, 1, 1, 1, 1, 1, 1, 1, 1, 1, 1, 1, 1, 1, 1, 1, 1, 1, 1, 1, 1, 1, 1, 1, 1, 1, 1, 1, 1, 1, 1, 1, 1, 1, 1, 1, 1, 1, 1, 1, 1, 1, 1, 1, 1, 1, 1, 1, 1, 1, 1, 1, 1, 1, 1, 1, 1, 1, 1, 1, 1, 1, 1, 1, 1, 1, 1, 1, 1, 1, 1, 1, 1, 1, 1, 1, 1, 1, 1, 1, 1, 1, 1, 1, 1, 1, 1, 1, 1, 1, 1, 1, 1, 1, 1, 1, 1, 1, 1, 1, 1, 1, 1, 1, 1, 1, 1, 1, 1, 1, 1, 1, 1, 1, 1, 1, 1, 1, 1, 1, 1, 1, 1, 1, 1, 1, 1, 1, 1, 1, 1, 1, 1, 1, 1, 1, 1, 1, 1, 1, 1, 1, 1, 1, 1, 1, 1, 1, 1, 1, 1, 1, 1, 1, 1, 1, 1, 1, 1, 1, 1, 1, 1, 1, 1, 1, 1, 1, 1, 1, 1, 1, 1, 1, 1, 1, 1, 1, 1, 1, 1, 1, 1, 1, 1, 1, 1, 1, 1, 1, 1, 1, 1, 1, 1, 1, 1, 1, 1, 1, 1, 1, 1, 1, 1, 1, 1, 1, 1, 1, 1, 1, 1, 1, 1, 1, 1, 1, 1, 1, 1, 1, 1, 1, 1, 1, 1, 1, 1, 1, 1, 1, 1, 1, 1, 1, 1, 1, 1, 1, 1, 1, 1, 1, 1, 1, 1, 1, 1, 1, 1, 1, 1, 1, 1, 1, 1, 1, 1, 1, 1, 1, 1, 1, 1, 1, 1, 1, 1, 1, 1, 1, 1, 1, 1, 1, 1, 1, 1, 1, 1, 1, 1, 1, 1, 1, 1, 1, 1, 1, 1, 1, 1, 1, 1, 1, 1, 1, 1, 1, 1, 1, 1, 1, 1, 1, 1, 1, 1, 1, 1, 1, 1, 1, 1, 1, 1, 1, 1, 1, 1, 1, 1, 1, 1, 1, 1, 1, 1, 1, 1, 1, 1, 1, 1, 1, 1, 1, 1, 1, 1, 1, 1, 1, 1, 1, 1, 1, 1, 1, 1, 1, 1, 1, 1, 1, 1, 1, 1, 1, 1, 1, 1, 1, 1, 1, 1, 1, 1, 1, 1, 1, 1, 1, 1, 1, 1, 1, 1, 1, 1, 1, 1, 1, 1, 1, 1, 1, 1, 1, 1, 1, 1, 1, 1, 1, 1, 1, 1, 1, 1, 1, 1, 1, 1, 1, 1, 1, 1, 1, 1, 1, 1, 1, 1, 1, 1, 1, 1, 1, 1, 1, 1, 1, 1, 1, 1, 1, 1, 1, 1, 1, 1, 1, 1, 1, 1, 1, 1, 1, 1, 1, 1, 1, 1, 1, 1, 1, 1, 1, 1, 1, 1, 1, 1, 1, 1, 1, 1, 1, 1, 1, 1, 1, 1, 1, 1, 1, 1, 1, 1, 1, 1, 1, 1, 1, 1, 1, 1, 1, 1, 1, 1, 1, 1, 1, 1, 1, 1, 1, 1, 1, 1, 1, 1, 1, 1, 1, 1, 1, 1, 1, 1, 1, 1, 1, 1, 1, 1, 1, 1, 1, 1, 1, 1, 1, 1, 1, 1, 1, 1, 1, 1, 1, 1, 1, 1, 1, 1, 1, 1, 1, 1, 1, 1, 1, 1, 1, 1, 1, 1, 1, 1, 1, 1, 1, 1, 1, 1, 1, 1, 1, 1, 1, 1, 1, 1, 1, 1, 1, 1, 1, 1, 1, 1, 1, 1, 1, 1, 1, 1, 1, 1, 1, 1, 1, 1, 1, 1, 1, 1, 1, 1, 1, 1, 1, 1, 1, 1, 1, 1, 1, 1, 1, 1, 1, 1, 1, 1, 1, 1, 1, 1, 1, 1, 1, 1, 1, 1, 1, 1, 1, 1, 1, 1, 1, 1, 1, 1, 1, 1, 1, 1, 1, 1, 1, 1, 1, 1, 1, 1, 1, 1, 1, 1, 1, 1, 1, 1, 1, 1, 1, 1, 1, 1, 1, 1, 1, 1, 1, 1, 1, 1, 1, 1, 1, 1, 1, 1, 1, 1, 1, 1, 1, 1, 1, 1, 1, 1, 1, 1, 1, 1, 1, 1, 1, 1, 1, 1, 1, 1, 1, 1, 1, 1, 1, 1, 1, 1, 1, 1, 1, 1, 1, 1, 1, 1, 1, 1, 1, 1, 1, 1, 1, 1, 1, 1, 1, 1, 1, 1, 1, 1, 1, 1, 1, 1, 1, 1, 1, 1, 1, 1, 1, 1, 1, 1, 1, 1, 1, 1, 1, 1, 1, 1, 1, 1, 1, 1, 1, 1, 1, 1, 1, 1, 1, 1, 1, 1, 1, 1, 1, 1, 1, 1, 1, 1, 1, 1, 1, 1, 1, 1, 1, 1, 1, 1, 1, 1, 1, 1, 1, 1, 1, 1, 1, 1, 1, 1, 1, 1, 1, 1, 1, 1, 1, 1, 1, 1, 1, 1, 1, 1, 1, 1, 1, 1, 1, 1, 1, 1, 1, 1, 1, 1, 1, 1, 1, 1, 1, 1, 1, 1, 1, 1, 1, 1, 1, 1, 1, 1, 1, 1, 1, 1, 1, 1, 1, 1, 1, 1, 1, 1, 1, 1, 1, 1, 1, 1, 1, 1, 1, 1, 1, 1, 1, 1, 1, 1, 1, 1, 1, 1, 1, 1, 1, 1, 1, 1, 1, 1, 1, 1, 1, 1, 1, 1, 1, 1, 1, 1, 1, 1, 1, 1, 1, 1, 1, 1, 1, 1, 1, 1, 1, 1, 1, 1, 1, 1, 1, 1, 1, 1, 1, 1, 1, 1, 1, 1, 1, 1, 1, 1, 1, 1, 1, 1, 1, 1, 1, 1, 1, 1, 1, 1, 1, 1, 1, 1, 1, 1, 1, 1, 1, 1, 1, 1, 1, 1, 1, 1, 1, 1, 1, 1, 1, 1, 1, 1, 1, 1, 1, 1, 1, 1, 1, 1, 1, 1, 1, 1, 1, 1, 1, 1, 1, 1, 1, 1, 1, 1, 1, 1, 1, 1, 1, 1, 1, 1, 1, 1, 1, 1, 1, 1, 1, 1, 1, 1, 1, 1, 1, 1, 1, 1, 1, 1, 1, 1, 1, 1, 1, 1, 1, 1, 1, 1, 1, 1, 1, 1, 1, 1, 1, 1, 1, 1, 1, 1, 1, 1, 1, 1, 1, 1, 1, 1, 1, 1, 1, 1, 1, 1, 1, 1, 1, 1, 1, 1, 1, 1, 1, 1, 1, 1, 1, 1, 1, 1, 1, 1, 1, 1, 1, 1, 1, 1, 1, 1, 1, 1, 1, 1, 1, 1, 1, 1, 1, 1, 1, 1, 1, 1, 1, 1, 1, 1, 1, 1, 1, 1, 1, 1, 1, 1, 1, 1, 1, 1, 1, 1, 1, 1, 1, 1, 1, 1, 1, 1, 1, 1, 1, 1, 1, 1, 1, 1, 1, 1, 1, 1, 1, 1, 1, 1, 1, 1, 1, 1, 1, 1, 1, 1, 1, 1, 1, 1, 1, 1, 1, 1, 1, 1, 1, 1, 1, 1, 1, 1, 1, 1, 1, 1, 1, 1, 1, 1, 1, 1, 1, 1, 1, 1, 1, 1, 1, 1, 1, 1, 1, 1, 1, 1, 1, 1, 1, 1, 1, 1, 1, 1, 1, 1, 1, 1, 1, 1, 1, 1, 1, 1, 1, 1, 1, 1, 1, 1, 1, 1, 1, 1, 1, 1, 1, 1, 1, 1, 1, 1, 1, 1, 1, 1, 1, 1, 1, 1, 1, 1, 1, 1, 1, 1, 1, 1, 1, 1, 1, 1, 1, 1, 1, 1, 1, 1, 1, 1, 1, 1, 1, 1, 1, 1, 1, 1, 1, 1, 1, 1, 1, 1, 1, 1, 1, 1, 1, 1, 1, 1, 1, 1, 1, 1, 1, 1, 1, 1, 1, 1, 1, 1, 1, 1, 1, 1, 1, 1, 1, 1, 1, 1, 1, 1, 1, 1, 1, 1, 1, 1, 1, 1, 1, 1, 1, 1, 1, 1, 1, 1, 1, 1, 1, 1, 1, 1, 1, 1, 1, 1, 1, 1, 1, 1, 1, 1, 1, 1, 1, 1, 1, 1, 1, 1, 1, 1, 1, 1, 1, 1, 1, 1, 1, 1, 1, 1, 1, 1, 1, 1, 1, 1, 1, 1, 1, 1, 1, 1, 1, 1, 1, 1, 1, 1, 1, 1, 1, 1, 1, 1, 1, 1, 1, 1, 1, 1, 1, 1, 1, 1, 1, 1, 1, 1, 1, 1, 1, 1, 1, 1, 1, 1, 1, 1, 1, 1, 1, 1, 1, 1, 1, 1, 1, 1, 1, 1, 1, 1, 1, 1, 1, 1, 1, 1, 1, 1, 1, 1, 1, 1, 1, 1, 1, 1, 1, 1, 1, 1, 1, 1, 1, 1, 1, 1, 1, 1, 1, 1, 1, 1, 1, 1, 1, 1, 1, 1, 1, 1, 1, 1, 1, 1, 1, 1, 1, 1, 1, 1, 1, 1, 1, 1, 1, 1, 1, 1, 1, 1, 1, 1, 1, 1, 1, 1, 1, 1, 1, 1, 1, 1, 1, 1, 1, 1, 1, 1, 1, 1, 1, 1, 1, 1, 1, 1, 1, 1, 1, 1, 1, 1, 1, 1, 1, 1, 1, 1, 1, 1, 1, 1, 1, 1, 1, 1, 1, 1, 1, 1, 1, 1, 1, 1, 1, 1, 1, 1, 1, 1, 1, 1, 1, 1, 1, 1, 1, 1, 1, 1, 1, 1, 1, 1, 1, 1, 1, 1, 1, 1, 1, 1, 1, 1, 1, 1, 1, 1, 1, 1, 1, 1, 1, 1, 1, 1, 1, 1, 1, 1, 1, 1, 1, 1, 1, 1, 1, 1, 1, 1, 1, 1, 1, 1, 1, 1, 1, 1, 1, 1, 1, 1, 1, 1, 1, 1, 1, 1, 1, 1, 1, 1, 1, 1, 1, 1, 1, 1, 1, 1, 1, 1, 1, 1, 1, 1, 1, 1, 1, 1, 1, 1, 1, 1, 1, 1, 1, 1, 1, 1, 1, 1, 1, 1, 1, 1, 1, 1, 1, 1, 1, 1, 1, 1, 1, 1, 1, 1, 1, 1, 1, 1, 1, 1, 1, 1, 1, 1, 1, 1, 1, 1, 1, 1, 1, 1, 1, 1, 1, 1, 1, 1, 1, 1, 1, 1, 1, 1, 1, 1, 1, 1, 1, 1, 1, 1, 1, 1, 1, 1, 1, 1, 1, 1, 1, 1, 1, 1, 1, 1, 1, 1, 1, 1, 1, 1, 1, 1, 1, 1, 1, 1, 1, 1, 1, 1, 1, 1, 1, 1, 1, 1, 1, 1, 1, 1, 1, 1, 1, 1, 1, 1, 1, 1, 1, 1, 1, 1, 1, 1, 1, 1, 1, 1, 1, 1, 1, 1, 1, 1, 1, 1, 1, 1, 1, 1, 1, 1, 1, 1, 1, 1, 1, 1, 1, 1, 1, 1, 1, 1, 1, 1, 1, 1, 1, 1, 1, 1, 1, 1, 1, 1, 1, 1, 1, 1, 1, 1, 1, 1, 1, 1, 1, 1, 1, 1, 1, 1, 1, 1, 1, 1, 1, 1, 1, 1, 1, 1, 1, 1, 1, 1, 1, 1, 1, 1, 1, 1, 1, 1, 1, 1, 1, 1, 1, 1, 1, 1, 1, 1, 1, 1, 1, 1, 1, 1, 1, 1, 1, 1, 1, 1, 1, 1, 1, 1, 1, 1, 1, 1, 1, 1, 1, 1, 1, 1, 1, 1, 1, 1, 1, 1, 1, 1, 1, 1, 1, 1, 1, 1, 1, 1, 1, 1, 1, 1, 1, 1, 1, 1, 1, 1, 1, 1, 1, 1, 1, 1, 1, 1, 1, 1, 1, 1, 1, 1, 1, 1, 1, 1, 1, 1, 1, 1, 1, 1, 1, 1, 1, 1, 1, 1, 1, 1, 1, 1, 1, 1, 1, 1, 1, 1, 1, 1, 1, 1, 1, 1, 1, 1, 1, 1, 1, 1, 1, 1, 1, 1, 1, 1, 1, 1, 1, 1, 1, 1, 1, 1, 1, 1, 1, 1, 1, 1, 1, 1, 1, 1, 1, 1, 1, 1, 1, 1, 1, 1, 1, 1, 1, 1, 1, 1, 1, 1, 1, 1, 1, 1, 1, 1, 1, 1, 1, 1, 1, 1, 1, 1, 1, 1, 1, 1, 1, 1, 1, 1, 1, 1, 1, 1, 1, 1, 1, 1, 1, 1, 1, 1, 1, 1, 1, 1, 1, 1, 1, 1, 1, 1, 1, 1, 1, 1, 1, 1, 1, 1, 1, 1, 1, 1, 1, 1, 1, 1, 1, 1, 1, 1, 1, 1, 1, 1, 1, 1, 1, 1, 1, 1, 1, 1, 1, 1, 1, 1, 1, 1, 1, 1, 1, 1, 1, 1, 1, 1, 1, 1, 1, 1, 1, 1, 1, 1, 1, 1, 1, 1, 1, 1, 1, 1, 1, 1, 1, 1, 1, 1, 1, 1, 1, 1, 1, 1, 1, 1, 1, 1, 1, 1, 1, 1, 1, 1, 1, 1, 1, 1, 1, 1, 1, 1, 1, 1, 1, 1, 1, 1, 1, 1, 1, 1, 1, 1, 1, 1, 1, 1, 1, 1, 1, 1, 1, 1, 1, 1, 1, 1, 1, 1, 1, 1, 1, 1, 1, 1, 1, 1, 1, 1, 1, 1, 1, 1, 1, 1, 1, 1, 1, 1, 1, 1, 1, 1, 1, 1, 1, 1, 1, 1, 1, 1, 1, 1, 1, 1, 1, 1, 1, 1, 1, 1, 1, 1, 1, 1, 1, 1, 1, 1, 1, 1, 1, 1, 1, 1, 1, 1, 1, 1, 1, 1, 1, 1, 1, 1, 1, 1, 1, 1, 1, 1, 1, 1, 1, 1, 1, 1, 1, 1, 1, 1, 1, 1, 1, 1, 1, 1, 1, 1, 1, 1, 1, 1, 1, 1, 1, 1, 1, 1, 1, 1, 1, 1, 1, 1, 1, 1, 1, 1, 1, 1, 1, 1, 1, 1, 1, 1, 1, 1, 1, 1, 1, 1, 1, 1, 1, 1, 1, 1, 1, 1, 1, 1, 1, 1, 1, 1, 1, 1, 1, 1, 1, 1, 1, 1, 1, 1, 1, 1, 1, 1, 1, 1, 1, 1, 1, 1, 1, 1, 1, 1, 1, 1, 1, 1, 1, 1, 1, 1, 1, 1, 1, 1, 1, 1, 1, 1, 1, 1, 1, 1, 1, 1, 1, 1, 1, 1, 1, 1, 1, 1, 1, 1, 1, 1, 1, 1, 1, 1, 1, 1, 1, 1, 1, 1, 1, 1, 1, 1, 1, 1, 1, 1, 1, 1, 1, 1, 1, 1, 1, 1, 1, 1, 1, 1, 1, 1, 1, 1, 1, 1, 1, 1, 1, 1, 1, 1, 1, 1, 1, 1, 1, 1, 1, 1, 1, 1, 1, 1, 1, 1, 1, 1, 1, 1, 1, 1, 1, 1, 1, 1, 1, 1, 1, 1, 1, 1, 1, 1, 1, 1, 1, 1, 1, 1, 1, 1, 1, 1, 1, 1, 1, 1, 1, 1, 1, 1, 1, 1, 1, 1, 1, 1, 1, 1, 1, 1, 1, 1, 1, 1, 1, 1, 1, 1, 1, 1, 1, 1, 1, 1, 1, 1, 1, 1, 1, 1, 1, 1, 1, 1, 1, 1, 1, 1, 1, 1, 1, 1, 1, 1, 1, 1, 1, 1, 1, 1, 1, 1, 1, 1, 1, 1, 1, 1, 1, 1, 1, 1, 1, 1, 1, 1, 1, 1, 1, 1, 1, 1, 1, 1, 1, 1, 1, 1, 1, 1, 1, 1, 1, 1, 1, 1, 1, 1, 1, 1, 1, 1, 1, 1, 1, 1, 1, 1, 1, 1, 1, 1, 1, 1, 1, 1, 1, 1, 1, 1, 1, 1, 1, 1, 1, 1, 1, 1, 1, 1, 1, 1, 1, 1, 1, 1, 1, 1, 1, 1, 1, 1, 1, 1, 1, 1, 1, 1, 1, 1, 1, 1, 1, 1, 1, 1, 1, 1, 1, 1, 1, 1, 1, 1, 1, 1, 1, 1, 1, 1, 1, 1, 1, 1, 1, 1, 1, 1, 1, 1, 1, 1, 1, 1, 1, 1, 1, 1, 1, 1, 1, 1, 1, 1, 1, 1, 1, 1, 1, 1, 1, 1, 1, 1, 1, 1, 1, 1, 1, 1, 1, 1, 1, 1, 1, 1, 1, 1, 1, 1, 1, 1, 1, 1, 1, 1, 1, 1, 1, 1, 1, 1, 1, 1, 1, 1, 1, 1, 1, 1, 1, 1, 1, 1, 1, 1, 1, 1, 1, 1, 1, 1, 1, 1, 1, 1, 1, 1, 1, 1, 1, 1, 1, 1, 1, 1, 1, 1, 1, 1, 1, 1, 1, 1, 1, 1, 1, 1, 1, 1, 1, 1, 1, 1, 1, 1, 1, 1, 1, 1, 1, 1, 1, 1, 1, 1, 1, 1, 1, 1, 1, 1, 1, 1, 1, 1, 1, 1, 1, 1, 1, 1, 1, 1, 1, 1, 1, 1, 1, 1, 1, 1, 1, 1, 1, 1, 1, 1, 1, 1, 1, 1, 1, 1, 1, 1, 1, 1, 1, 1, 1, 1, 1, 1, 1, 1, 1, 1, 1, 1, 1, 1, 1, 1, 1, 1, 1, 1, 1, 1, 1, 1, 1, 1, 1, 1, 1, 1, 1, 1, 1, 1, 1, 1, 1, 1, 1, 1, 1, 1, 1, 1, 1, 1, 1, 1, 1, 1, 1, 1, 1, 1, 1, 1, 1, 1, 1, 1, 1, 1, 1, 1, 1, 1, 1, 1, 1, 1, 1, 1, 1, 1, 1, 1, 1, 1, 1, 1, 1, 1, 1, 1, 1, 1, 1, 1, 1, 1, 1, 1, 1, 1, 1, 1, 1, 1, 1, 1, 1, 1, 1, 1, 1, 1, 1, 1, 1, 1, 1, 1, 1, 1, 1, 1, 1, 1, 1, 1, 1, 1, 1, 1, 1, 1, 1, 1, 1, 1, 1, 1, 1, 1, 1, 1, 1, 1, 1, 1, 1, 1, 1, 1, 1, 1, 1, 1, 1, 1, 1, 1, 1, 1, 1, 1, 1, 1, 1, 1, 1, 1, 1, 1, 1, 1, 1, 1, 1, 1, 1, 1, 1, 1, 1, 1, 1, 1, 1, 1, 1, 1, 1, 1, 1, 1, 1, 1, 1, 1, 1, 1, 1, 1, 1, 1, 1, 1, 1, 1, 1, 1, 1, 1, 1, 1, 1, 1, 1, 1, 1, 1, 1, 1, 1, 1, 1, 1, 1, 1, 1, 1, 1, 1, 1, 1, 1, 1, 1, 1, 1, 1, 1, 1, 1, 1, 1, 1, 1, 1, 1, 1, 1, 1, 1, 1, 1, 1, 1, 1, 1, 1, 1, 1, 1, 1, 1, 1, 1, 1, 1, 1, 1, 1, 1, 1, 1, 1, 1, 1, 1, 1, 1, 1, 1, 1, 1, 1, 1, 1, 1, 1, 1, 1, 1, 1, 1, 1, 1, 1, 1, 1, 1, 1, 1, 1, 1, 1, 1, 1, 1, 1, 1, 1, 1, 1, 1, 1, 1, 1, 1, 1, 1, 1, 1, 1, 1, 1, 1, 1, 1, 1, 1, 1, 1, 1, 1, 1, 1, 1, 1, 1, 1, 1, 1, 1, 1, 1, 1, 1, 1, 1, 1, 1, 1, 1, 1, 1, 1, 1, 1, 1, 1, 1, 1, 1, 1, 1, 1, 1, 1, 1, 1, 1, 1, 1, 1, 1, 1, 1, 1, 1, 1, 1, 1, 1, 1, 1, 1, 1, 1, 1, 1, 1, 1, 1, 1, 1, 1, 1, 1, 1, 1, 1, 1, 1, 1, 1, 1, 1, 1, 1, 1, 1, 1, 1, 1, 1, 1, 1, 1, 1, 1, 1, 1, 1, 1, 1, 1, 1, 1, 1, 1, 1, 1, 1, 1, 1, 1, 1, 1, 1, 1, 1, 1, 1, 1, 1, 1, 1, 1, 1, 1, 1, 1, 1, 1, 1, 1, 1, 1, 1, 1, 1, 1, 1, 1, 1, 1, 1, 1, 1, 1, 1, 1, 1, 1, 1, 1, 1, 1, 1, 1, 1, 1, 1, 1, 1, 1, 1, 1, 1, 1, 1, 1, 1, 1, 1, 1, 1, 1, 1, 1, 1, 1, 1, 1, 1, 1, 1, 1, 1, 1, 1, 1, 1, 1, 1, 1, 1, 1, 1, 1, 1, 1, 1, 1, 1, 1, 1, 1, 1, 1, 1, 1, 1, 1, 1, 1, 1, 1, 1, 1, 1, 1, 1, 1, 1, 1, 1, 1, 1, 1, 1, 1, 1, 1, 1, 1, 1, 1, 1, 1, 1, 1, 1, 1, 1, 1, 1, 1, 1, 1, 1, 1, 1, 1, 1, 1, 1, 1, 1, 1, 1, 1, 1, 1, 1, 1, 1, 1, 1, 1, 1, 1, 1, 1, 1, 1, 1, 1, 1, 1, 1, 1, 1, 1, 1, 1, 1, 1, 1, 1, 1, 1, 1, 1, 1, 1, 1, 1, 1, 1, 1, 1, 1, 1, 1, 1, 1, 1, 1, 1, 1, 1, 1, 1, 1, 1, 1, 1, 1, 1, 1, 1, 1, 1, 1, 1, 1, 1, 1, 1, 1, 1, 1, 1, 1, 1, 1, 1, 1, 1, 1, 1, 1, 1, 1, 1, 1, 1, 1, 1, 1, 1, 1, 1, 1, 1, 1, 1, 1, 1, 1, 1, 1, 1, 1, 1, 1, 1, 1, 1, 1, 1, 1, 1, 1, 1, 1, 1, 1, 1, 1, 1, 1, 1, 1, 1, 1, 1, 1, 1, 1, 1, 1, 1, 1, 1, 1, 1, 1, 1, 1, 1, 1, 1, 1, 1, 1, 1, 1, 1, 1, 1, 1, 1, 1, 1, 1, 1, 1, 1, 1, 1, 1, 1, 1, 1, 1, 1, 1, 1, 1, 1, 1, 1, 1, 1, 1, 1, 1, 1, 1, 1, 1, 1, 1, 1, 1, 1, 1, 1, 1, 1, 1, 1, 1, 1, 1, 1, 1, 1, 1, 1, 1, 1, 1, 1, 1, 1, 1, 1, 1, 1, 1, 1, 1, 1, 1, 1, 1, 1, 1, 1, 1, 1, 1, 1, 1, 1, 1, 1, 1, 1, 1, 1, 1, 1, 1, 1, 1, 1, 1, 1, 1, 1, 1, 1, 1, 1, 1, 1, 1, 1, 1, 1, 1, 1, 1, 1, 1, 1, 1, 1, 1, 1, 1, 1, 1, 1, 1, 1, 1, 1, 1, 1, 1, 1, 1, 1, 1, 1, 1, 1, 1, 1, 1, 1, 1, 1, 1, 1, 1, 1, 1, 1, 1, 1, 1, 1, 1, 1, 1, 1, 1, 1, 1, 1, 1, 1, 1, 1, 1, 1, 1, 1, 1, 1, 1, 1, 1, 1, 1, 1, 1, 1, 1, 1, 1, 1, 1, 1, 1, 1, 1, 1, 1, 1, 1, 1, 1, 1, 1, 1, 1, 1, 1, 1, 1, 1, 1, 1, 1, 1, 1, 1, 1, 1, 1, 1, 1, 1, 1, 1, 1, 1, 1, 1, 1, 1, 1, 1, 1, 1, 1, 1, 1, 1, 1, 1, 1, 1, 1, 1, 1, 1, 1, 1, 1, 1, 1, 1, 1, 1, 1, 1, 1, 1, 1, 1, 1, 1, 1, 1, 1, 1, 1, 1, 1, 1, 1, 1, 1, 1, 1, 1, 1, 1, 1, 1, 1, 1, 1, 1, 1, 1, 1, 1, 1, 1, 1, 1, 1, 1, 1, 1, 1, 1, 1, 1, 1, 1, 1, 1, 1, 1, 1, 1, 1, 1, 1, 1, 1, 1, 1, 1, 1, 1, 1, 1, 1, 1, 1, 1, 1, 1, 1, 1, 1, 1, 1, 1, 1, 1, 1, 1, 1, 1, 1, 1, 1, 1, 1, 1, 1, 1, 1, 1, 1, 1, 1, 1, 1, 1, 1, 1, 1, 1, 1, 1, 1, 1, 1, 1, 1, 1, 1, 1, 1, 1, 1, 1, 1, 1, 1, 1, 1, 1, 1, 1, 1, 1, 1, 1, 1, 1, 1, 1, 1, 1, 1, 1, 1, 1, 1, 1, 1, 1, 1, 1, 1, 1, 1, 1, 1, 1, 1, 1, 1, 1, 1, 1, 1, 1, 1, 1, 1, 1, 1, 1, 1, 1, 1, 1, 1, 1, 1, 1, 1, 1, 1, 1, 1, 1, 1, 1, 1, 1, 1, 1, 1, 1, 1, 1, 1, 1, 1, 1, 1, 1, 1, 1, 1, 1, 1, 1, 1, 1, 1, 1, 1, 1, 1, 1, 1, 1, 1, 1, 1, 1, 1, 1, 1, 1, 1, 1, 1, 1, 1, 1, 1, 1, 1, 1, 1, 1, 1, 1, 1, 1, 1, 1, 1, 1, 1, 1, 1, 1, 1, 1, 1, 1, 1, 1, 1, 1, 1, 1, 1, 1, 1, 1, 1, 1, 1, 1, 1, 1, 1, 1, 1, 1, 1, 1, 1, 1, 1, 1, 1, 1, 1, 1, 1, 1, 1, 1, 1, 1, 1, 1, 1, 1, 1, 1, 1, 1, 1, 1, 1, 1, 1, 1, 1, 1, 1, 1, 1, 1, 1, 1, 1, 1, 1, 1, 1, 1, 1, 1, 1, 1, 1, 1, 1, 1, 1, 1, 1, 1, 1, 1, 1, 1, 1, 1, 1, 1, 1, 1, 1, 1, 1, 1, 1, 1, 1, 1, 1, 1, 1, 1, 1, 1, 1, 1, 1, 1, 1, 1, 1, 1, 1, 1, 1, 1, 1, 1, 1, 1, 1, 1, 1, 1, 1, 1, 1, 1, 1, 1, 1, 1, 1, 1, 1, 1, 1, 1, 1, 1, 1, 1, 1, 1, 1, 1, 1, 1, 1, 1, 1, 1, 1, 1, 1, 1, 1, 1, 1, 1, 1, 1, 1, 1, 1, 1, 1, 1, 1, 1, 1, 1, 1, 1, 1, 1, 1, 1, 1, 1, 1, 1, 1, 1, 1, 1, 1, 1, 1, 1, 1, 1, 1, 1, 1, 1, 1, 1, 1, 1, 1, 1, 1, 1, 1, 1, 1, 1, 1, 1, 1, 1, 1, 1, 1, 1, 1, 1, 1, 1, 1, 1, 1, 1, 1, 1, 1, 1, 1, 1, 1, 1, 1, 1, 1, 1, 1, 1, 1, 1, 1, 1, 1, 1, 1, 1, 1, 1, 1, 1, 1, 1, 1, 1, 1, 1, 1, 1, 1, 1, 1, 1, 1, 1, 1, 1, 1, 1, 1, 1, 1, 1, 1, 1, 1, 1, 1, 1, 1, 1, 1, 1, 1, 1, 1, 1, 1, 1, 1, 1, 1, 1, 1, 1, 1, 1, 1, 1, 1, 1, 1, 1, 1, 1, 1, 1, 1, 1, 1, 1, 1, 1, 1, 1, 1, 1, 1, 1, 1, 1, 1, 1, 1, 1, 1, 1, 1, 1, 1, 1, 1, 1, 1, 1, 1, 1, 1, 1, 1, 1, 1, 1, 1, 1, 1, 1, 1, 1, 1, 1, 1, 1, 1, 1, 1, 1, 1, 1, 1, 1, 1, 1, 1, 1, 1, 1, 1, 1, 1, 1, 1, 1, 1, 1, 1, 1, 1, 1, 1, 1, 1, 1, 1, 1, 1, 1, 1, 1, 1, 1, 1, 1, 1, 1, 1, 1, 1, 1, 1, 1, 1, 1, 1, 1, 1, 1, 1, 1, 1, 1, 1, 1, 1, 1, 1, 1, 1, 1, 1, 1, 1, 1, 1, 1, 1, 1, 1, 1, 1, 1, 1, 1, 1, 1, 1, 1, 1, 1, 1, 1, 1, 1, 1, 1, 1, 1, 1, 1, 1, 1, 1, 1, 1, 1, 1, 1, 1, 1, 1, 1, 1, 1, 1, 1, 1, 1, 1, 1, 1, 1, 1, 1, 1, 1, 1, 1, 1, 1, 1, 1, 1, 1, 1, 1, 1, 1, 1, 1, 1, 1, 1, 1, 1, 1, 1, 1, 1, 1, 1, 1, 1, 1, 1, 1, 1, 1, 1, 1, 1, 1, 1, 1, 1, 1, 1, 1, 1, 1, 1, 1, 1, 1, 1, 1, 1, 1, 1, 1, 1, 1, 1, 1, 1, 1, 1, 1, 1, 1, 1, 1, 1, 1, 1, 1, 1, 1, 1, 1, 1, 1, 1, 1, 1, 1, 1, 1, 1, 1, 1, 1, 1, 1, 1, 1, 1, 1, 1, 1, 1, 1, 1, 1, 1, 1, 1, 1, 1, 1, 1, 1, 1, 1, 1, 1, 1, 1, 1, 1, 1, 1, 1, 1, 1, 1, 1, 1, 1, 1, 1, 1, 1, 1, 1, 1, 1, 1, 1, 1, 1, 1, 1, 1, 1, 1, 1, 1, 1, 1, 1, 1, 1, 1, 1, 1, 1, 1, 1, 1, 1, 1, 1, 1, 1, 1, 1, 1, 1, 1, 1, 1, 1, 1, 1, 1, 1, 1, 1, 1, 1, 1, 1, 1, 1, 1, 1, 1, 1, 1, 1, 1, 1, 1, 1, 1, 1, 1, 1, 1, 1, 1, 1, 1, 1, 1, 1, 1, 1, 1, 1, 1, 1, 1, 1, 1, 1, 1, 1, 1, 1, 1, 1, 1, 1, 1, 1, 1, 1, 1, 1, 1, 1, 1, 1, 1, 1, 1, 1, 1, 1, 1, 1, 1, 1, 1, 1, 1, 1, 1, 1, 1, 1, 1, 1, 1, 1, 1, 1, 1, 1, 1, 1, 1, 1, 1, 1, 1, 1, 1, 1, 1, 1, 1, 1, 1, 1, 1, 1, 1, 1, 1, 1, 1, 1, 1, 1, 1, 1, 1, 1, 1, 1, 1, 1, 1, 1, 1, 1, 1, 1, 1, 1, 1, 1, 1, 1, 1, 1, 1, 1, 1, 1, 1, 1, 1, 1, 1, 1, 1, 1, 1, 1, 1, 1, 1, 1, 1, 1, 1, 1, 1, 1, 1, 1, 1, 1, 1, 1, 1, 1, 1, 1, 1, 1, 1, 1, 1, 1, 1, 1, 1, 1, 1, 1, 1, 1, 1, 1, 1, 1, 1, 1, 1, 1, 1, 1, 1, 1, 1, 1, 1, 1, 1, 1, 1, 1, 1, 1, 1, 1, 1, 1, 1, 1, 1, 1, 1, 1, 1, 1, 1, 1, 1, 1, 1, 1, 1, 1, 1, 1, 1, 1, 1, 1, 1, 1, 1, 1, 1, 1, 1, 1, 1, 1, 1, 1, 1, 1, 1, 1, 1, 1, 1, 1, 1, 1, 1, 1, 1, 1, 1, 1, 1, 1, 1, 1, 1, 1, 1, 1, 1, 1, 1, 1, 1, 1, 1, 1, 1, 1, 1, 1, 1, 1, 1, 1, 1, 1, 1, 1, 1, 1, 1, 1, 1, 1, 1, 1, 1, 1, 1, 1, 1, 1, 1, 1, 1, 1, 1, 1, 1, 1, 1, 1, 1, 1, 1, 1, 1, 1, 1, 1, 1, 1, 1, 1, 1, 1, 1, 1, 1, 1, 1, 1, 1, 1, 1, 1, 1, 1, 1, 1, 1, 1, 1, 1, 1, 1, 1, 1, 1, 1, 1, 1, 1, 1, 1, 1, 1, 1, 1, 1, 1, 1, 1, 1, 1, 1, 1, 1, 1, 1, 1, 1, 1, 1, 1, 1, 1, 1, 1, 1, 1, 1, 1, 1, 1, 1, 1, 1, 1, 1, 1, 1, 1, 1, 1, 1, 1, 1, 1, 1, 1, 1, 1, 1, 1, 1, 1, 1, 1, 1, 1, 1, 1, 1, 1, 1, 1, 1, 1, 1, 1, 1, 1, 1, 1, 1, 1, 1, 1, 1, 1, 1, 1, 1, 1, 1, 1, 1, 1, 1, 1, 1, 1, 1, 1, 1, 1, 1, 1, 1, 1, 1, 1, 1, 1, 1, 1, 1, 1, 1, 1, 1, 1, 1, 1, 1, 1, 1, 1, 1, 1, 1, 1, 1, 1, 1, 1, 1, 1, 1, 1, 1, 1, 1, 1, 1, 1, 1, 1, 1, 1, 1, 1, 1, 1, 1, 1, 1, 1, 1, 1, 1, 1, 1, 1, 1, 1, 1, 1, 1, 1, 1, 1, 1, 1, 1, 1, 1, 1, 1, 1, 1, 1, 1, 1, 1, 1, 1, 1, 1, 1, 1, 1, 1, 1, 1, 1, 1, 1, 1, 1, 1, 1, 1, 1, 1, 1, 1, 1, 1, 1, 1, 1, 1, 1, 1, 1, 1, 1, 1, 1, 1, 1, 1, 1, 1, 1, 1, 1, 1, 1, 1, 1, 1, 1, 1, 1, 1, 1, 1, 1, 1, 1, 1, 1, 1, 1, 1, 1, 1, 1, 1, 1, 1, 1, 1, 1, 1, 1, 1, 1, 1, 1, 1, 1, 1, 1, 1, 1, 1, 1, 1, 1, 1, 1, 1, 1, 1, 1, 1, 1, 1, 1, 1, 1, 1, 1, 1, 1, 1, 1, 1, 1, 1, 1, 1, 1, 1, 1, 1, 1, 1, 1, 1, 1, 1, 1]\n",
            "10000\n",
            "<class 'list'>\n"
          ]
        }
      ]
    },
    {
      "cell_type": "markdown",
      "source": [
        "#Here we can make a Array in the form of Ones Using (Ones) method"
      ],
      "metadata": {
        "id": "mKL9LtU2gYco"
      }
    },
    {
      "cell_type": "code",
      "source": [
        "arr = np.ones(10000,dtype=\"uint8\")"
      ],
      "metadata": {
        "id": "3T8NQ5dPh8ke"
      },
      "execution_count": null,
      "outputs": []
    },
    {
      "cell_type": "code",
      "source": [
        "print(arr)"
      ],
      "metadata": {
        "colab": {
          "base_uri": "https://localhost:8080/"
        },
        "id": "OkzojCH0k-q7",
        "outputId": "87b8ed47-4170-4791-9f9e-4ce2b2be3772"
      },
      "execution_count": null,
      "outputs": [
        {
          "output_type": "stream",
          "name": "stdout",
          "text": [
            "[1 1 1 ... 1 1 1]\n"
          ]
        }
      ]
    },
    {
      "cell_type": "markdown",
      "source": [
        "#Here we can check Time of List taken in loops Using (%timeit)"
      ],
      "metadata": {
        "id": "7NXDSkxngogg"
      }
    },
    {
      "cell_type": "code",
      "source": [
        "%timeit sum(lst)"
      ],
      "metadata": {
        "colab": {
          "base_uri": "https://localhost:8080/"
        },
        "id": "hRmfD50IlF53",
        "outputId": "bd54b23b-74f0-4a98-93a9-b86e36376dd8"
      },
      "execution_count": null,
      "outputs": [
        {
          "output_type": "stream",
          "name": "stdout",
          "text": [
            "104 µs ± 31.8 µs per loop (mean ± std. dev. of 7 runs, 10000 loops each)\n"
          ]
        }
      ]
    },
    {
      "cell_type": "markdown",
      "source": [
        "#Here we can check Time of Array taken in loops Using (%timeit)"
      ],
      "metadata": {
        "id": "sF1OLlNvg5yx"
      }
    },
    {
      "cell_type": "code",
      "source": [
        "%timeit sum(arr)"
      ],
      "metadata": {
        "colab": {
          "base_uri": "https://localhost:8080/"
        },
        "id": "xvvSdxEHl33-",
        "outputId": "75c4f7dc-e917-44cd-db61-1c4cf8b29d7b"
      },
      "execution_count": null,
      "outputs": [
        {
          "output_type": "stream",
          "name": "stdout",
          "text": [
            "1.51 ms ± 18.8 µs per loop (mean ± std. dev. of 7 runs, 1000 loops each)\n"
          ]
        }
      ]
    },
    {
      "cell_type": "markdown",
      "source": [
        "##Numpy stands for Numerical python.\n",
        "It is a library of python to work with Arrays."
      ],
      "metadata": {
        "id": "zxxl1aeuh-Md"
      }
    },
    {
      "cell_type": "code",
      "source": [
        "%timeit arr.sum()"
      ],
      "metadata": {
        "colab": {
          "base_uri": "https://localhost:8080/"
        },
        "id": "o4_0jK8-nFFJ",
        "outputId": "056a11bf-3cc4-4adc-906c-8d7b1c7119be"
      },
      "execution_count": null,
      "outputs": [
        {
          "output_type": "stream",
          "name": "stdout",
          "text": [
            "12.9 µs ± 91.5 ns per loop (mean ± std. dev. of 7 runs, 100000 loops each)\n"
          ]
        }
      ]
    },
    {
      "cell_type": "code",
      "source": [
        "type(arr)"
      ],
      "metadata": {
        "colab": {
          "base_uri": "https://localhost:8080/"
        },
        "id": "Qu0jrL8uqCLz",
        "outputId": "581ae727-c016-4a58-db81-6144755ddeb8"
      },
      "execution_count": null,
      "outputs": [
        {
          "output_type": "execute_result",
          "data": {
            "text/plain": [
              "numpy.ndarray"
            ]
          },
          "metadata": {},
          "execution_count": 17
        }
      ]
    },
    {
      "cell_type": "code",
      "source": [
        "arr.dtype"
      ],
      "metadata": {
        "colab": {
          "base_uri": "https://localhost:8080/"
        },
        "id": "xcvZnno-qGst",
        "outputId": "05d18504-44d2-48f8-a68d-aec2dd7b8c2e"
      },
      "execution_count": null,
      "outputs": [
        {
          "output_type": "execute_result",
          "data": {
            "text/plain": [
              "dtype('uint8')"
            ]
          },
          "metadata": {},
          "execution_count": 18
        }
      ]
    },
    {
      "cell_type": "code",
      "source": [
        "arr = np.ones((3,4),dtype=\"uint8\")"
      ],
      "metadata": {
        "id": "4BjQ2-z-qLc1"
      },
      "execution_count": null,
      "outputs": []
    },
    {
      "cell_type": "code",
      "source": [
        "print(arr)"
      ],
      "metadata": {
        "colab": {
          "base_uri": "https://localhost:8080/"
        },
        "id": "oM3IWNa8qU69",
        "outputId": "19911bb6-e3ea-4dca-be0f-895c55b23934"
      },
      "execution_count": null,
      "outputs": [
        {
          "output_type": "stream",
          "name": "stdout",
          "text": [
            "[[1 1 1 1]\n",
            " [1 1 1 1]\n",
            " [1 1 1 1]]\n"
          ]
        }
      ]
    },
    {
      "cell_type": "markdown",
      "source": [
        "#Here we can make a Array in the form of Zeros Using (Zeros) method"
      ],
      "metadata": {
        "id": "fr4QF3IUhU2q"
      }
    },
    {
      "cell_type": "code",
      "source": [
        "arr = np.zeros((3,4),dtype=\"int8\")"
      ],
      "metadata": {
        "id": "AemK3RhgqXtD"
      },
      "execution_count": null,
      "outputs": []
    },
    {
      "cell_type": "markdown",
      "source": [
        "#Here we can check the shape of Array Using (shape) method"
      ],
      "metadata": {
        "id": "jgP-Sfc1hYJy"
      }
    },
    {
      "cell_type": "code",
      "source": [
        "arr.shape"
      ],
      "metadata": {
        "colab": {
          "base_uri": "https://localhost:8080/"
        },
        "id": "chSs-2grqxB2",
        "outputId": "caa7204f-0264-47e7-da9e-026792e73f88"
      },
      "execution_count": null,
      "outputs": [
        {
          "output_type": "execute_result",
          "data": {
            "text/plain": [
              "(3, 4)"
            ]
          },
          "metadata": {},
          "execution_count": 22
        }
      ]
    },
    {
      "cell_type": "markdown",
      "source": [
        "#Here we can make an array in the range Using (arange) function"
      ],
      "metadata": {
        "id": "RMMfHhxdhmiZ"
      }
    },
    {
      "cell_type": "code",
      "source": [
        "arr = np.arange(1,10,2)"
      ],
      "metadata": {
        "id": "Q2YsM2h_q5D0"
      },
      "execution_count": null,
      "outputs": []
    },
    {
      "cell_type": "code",
      "source": [
        "print(arr)"
      ],
      "metadata": {
        "id": "p_seo4zgrLTU",
        "outputId": "128099c6-811d-460f-82ec-3c6ce4794928",
        "colab": {
          "base_uri": "https://localhost:8080/"
        }
      },
      "execution_count": null,
      "outputs": [
        {
          "output_type": "stream",
          "name": "stdout",
          "text": [
            "[1 3 5 7 9]\n"
          ]
        }
      ]
    },
    {
      "cell_type": "code",
      "source": [
        "arr.shape"
      ],
      "metadata": {
        "colab": {
          "base_uri": "https://localhost:8080/"
        },
        "id": "YeV2C3ylq_Gu",
        "outputId": "7a3cf161-473e-4549-c55a-de61dc3354fc"
      },
      "execution_count": null,
      "outputs": [
        {
          "output_type": "execute_result",
          "data": {
            "text/plain": [
              "(5,)"
            ]
          },
          "metadata": {},
          "execution_count": 25
        }
      ]
    },
    {
      "cell_type": "markdown",
      "source": [
        "#Slicing in Numpy"
      ],
      "metadata": {
        "id": "zG67DwVXj_Iv"
      }
    },
    {
      "cell_type": "code",
      "source": [
        "arr = np.arange(5,25,2)"
      ],
      "metadata": {
        "id": "hjhgewzJkEzH"
      },
      "execution_count": 26,
      "outputs": []
    },
    {
      "cell_type": "code",
      "source": [
        "print(arr)"
      ],
      "metadata": {
        "colab": {
          "base_uri": "https://localhost:8080/"
        },
        "id": "RFIxLDL9kIsn",
        "outputId": "b88cb2ee-db36-48e6-b6da-fa472806fd49"
      },
      "execution_count": 27,
      "outputs": [
        {
          "output_type": "stream",
          "name": "stdout",
          "text": [
            "[ 5  7  9 11 13 15 17 19 21 23]\n"
          ]
        }
      ]
    },
    {
      "cell_type": "markdown",
      "source": [
        "#Slicing in python means taking elements from one given index to another given index.\n",
        "\n",
        "We pass slice instead of index like this: [start:end].\n",
        "\n",
        "We can also define the step, like this: [start:end:step].\n",
        "\n",
        "If we don't pass start its considered 0\n",
        "\n",
        "If we don't pass end its considered length of array in that dimension\n",
        "\n",
        "If we don't pass step its considered 1"
      ],
      "metadata": {
        "id": "uX6i4OkKki-P"
      }
    },
    {
      "cell_type": "code",
      "source": [
        "arr[2:5]"
      ],
      "metadata": {
        "colab": {
          "base_uri": "https://localhost:8080/"
        },
        "id": "jizu8oqRkL0J",
        "outputId": "d6603538-dd8e-4eb5-8a65-b558932e53e4"
      },
      "execution_count": 28,
      "outputs": [
        {
          "output_type": "execute_result",
          "data": {
            "text/plain": [
              "array([ 9, 11, 13])"
            ]
          },
          "metadata": {},
          "execution_count": 28
        }
      ]
    },
    {
      "cell_type": "markdown",
      "source": [
        "#View or Shallow Copy\n",
        "NumPy has ndarray.view() method which is a new array object that looks at the same data of the original array. Unlike the earlier case, change in dimensions of the new array doesn’t change dimensions of the original."
      ],
      "metadata": {
        "id": "1L-tuWHmk-uA"
      }
    },
    {
      "cell_type": "code",
      "source": [
        "lst = [1,2,3,4,5]\n",
        "lst2 = lst[2:4]\n",
        "print(lst)\n",
        "print(lst2)\n",
        "lst2[0] = 1000\n",
        "print(lst)\n",
        "print(lst2)"
      ],
      "metadata": {
        "colab": {
          "base_uri": "https://localhost:8080/"
        },
        "id": "bH2tPDgJkOk4",
        "outputId": "d7365b7b-fa0c-4a3a-dc71-b1ad7d549108"
      },
      "execution_count": 29,
      "outputs": [
        {
          "output_type": "stream",
          "name": "stdout",
          "text": [
            "[1, 2, 3, 4, 5]\n",
            "[3, 4]\n",
            "[1, 2, 3, 4, 5]\n",
            "[1000, 4]\n"
          ]
        }
      ]
    },
    {
      "cell_type": "markdown",
      "source": [
        "#Deep Copy\n",
        "The ndarray.copy() function creates a deep copy. It is a complete copy of the array and its data, and doesn’t share with the original array."
      ],
      "metadata": {
        "id": "R3T4TwLclAtX"
      }
    },
    {
      "cell_type": "code",
      "source": [
        "arr = np.array([1,2,3,4,5])\n",
        "arr2 = arr[2:4].copy()\n",
        "print(arr)\n",
        "print(arr2)\n",
        "arr2[0]=1000\n",
        "print(arr)\n",
        "print(arr2)"
      ],
      "metadata": {
        "colab": {
          "base_uri": "https://localhost:8080/"
        },
        "id": "PEHRxe8LkrqG",
        "outputId": "89a792bf-7c1f-49aa-ae96-19e1c06817f7"
      },
      "execution_count": 30,
      "outputs": [
        {
          "output_type": "stream",
          "name": "stdout",
          "text": [
            "[1 2 3 4 5]\n",
            "[3 4]\n",
            "[1 2 3 4 5]\n",
            "[1000    4]\n"
          ]
        }
      ]
    },
    {
      "cell_type": "markdown",
      "source": [
        "#Creating an Array\n",
        "Syntax -\n",
        "Create-1![image.png](data:image/png;base64,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)"
      ],
      "metadata": {
        "id": "2Bmc5ID_lsQA"
      }
    },
    {
      "cell_type": "code",
      "source": [
        "arr = np.array([[1,2,3],[4,5,6],[7,8,9]])"
      ],
      "metadata": {
        "id": "FEua9Wi5lY4g"
      },
      "execution_count": 32,
      "outputs": []
    },
    {
      "cell_type": "code",
      "source": [
        "print(arr)"
      ],
      "metadata": {
        "colab": {
          "base_uri": "https://localhost:8080/"
        },
        "id": "NjyKlMzml9kZ",
        "outputId": "cf7a6e42-92fb-4d0c-c74e-a53f2519d2f1"
      },
      "execution_count": 33,
      "outputs": [
        {
          "output_type": "stream",
          "name": "stdout",
          "text": [
            "[[1 2 3]\n",
            " [4 5 6]\n",
            " [7 8 9]]\n"
          ]
        }
      ]
    },
    {
      "cell_type": "markdown",
      "source": [
        "#Here we can check the Dimensions of 2D Array"
      ],
      "metadata": {
        "id": "k73Fn6ramTAh"
      }
    },
    {
      "cell_type": "code",
      "source": [
        "arr.ndim"
      ],
      "metadata": {
        "colab": {
          "base_uri": "https://localhost:8080/"
        },
        "id": "y1xhbDHsmHqJ",
        "outputId": "7418d327-92a2-4b67-ee97-f2fa625cf83d"
      },
      "execution_count": 34,
      "outputs": [
        {
          "output_type": "execute_result",
          "data": {
            "text/plain": [
              "2"
            ]
          },
          "metadata": {},
          "execution_count": 34
        }
      ]
    },
    {
      "cell_type": "markdown",
      "source": [
        "#Here we can check the Shape of 2D Array"
      ],
      "metadata": {
        "id": "GGYUX-WLmaRC"
      }
    },
    {
      "cell_type": "code",
      "source": [
        "arr.shape"
      ],
      "metadata": {
        "colab": {
          "base_uri": "https://localhost:8080/"
        },
        "id": "4j8EV7NVmLZB",
        "outputId": "ff661646-85bf-4af2-9b03-cb570e6ceac5"
      },
      "execution_count": 35,
      "outputs": [
        {
          "output_type": "execute_result",
          "data": {
            "text/plain": [
              "(3, 3)"
            ]
          },
          "metadata": {},
          "execution_count": 35
        }
      ]
    },
    {
      "cell_type": "markdown",
      "source": [
        "#Here we can check the Size of 2D Array"
      ],
      "metadata": {
        "id": "Pj6E6f62mizr"
      }
    },
    {
      "cell_type": "code",
      "source": [
        "arr.size"
      ],
      "metadata": {
        "colab": {
          "base_uri": "https://localhost:8080/"
        },
        "id": "tanvScLImPdh",
        "outputId": "1adfa09a-99d1-42a7-aa50-a5225ef226c5"
      },
      "execution_count": 36,
      "outputs": [
        {
          "output_type": "execute_result",
          "data": {
            "text/plain": [
              "9"
            ]
          },
          "metadata": {},
          "execution_count": 36
        }
      ]
    },
    {
      "cell_type": "markdown",
      "source": [
        "#Accessing/Indexing specific element\n",
        "To get a specific element from an array use arr[r,c]\n",
        "here r specifies row number and c column number."
      ],
      "metadata": {
        "id": "ayrn8iiMmviq"
      }
    },
    {
      "cell_type": "code",
      "source": [
        "arr[0][1]"
      ],
      "metadata": {
        "colab": {
          "base_uri": "https://localhost:8080/"
        },
        "id": "ZH8P-gyEm0tC",
        "outputId": "f130a87c-7560-4c79-f76d-b97efcec5412"
      },
      "execution_count": 37,
      "outputs": [
        {
          "output_type": "execute_result",
          "data": {
            "text/plain": [
              "2"
            ]
          },
          "metadata": {},
          "execution_count": 37
        }
      ]
    },
    {
      "cell_type": "code",
      "source": [
        "arr[0,1]"
      ],
      "metadata": {
        "colab": {
          "base_uri": "https://localhost:8080/"
        },
        "id": "8prmHeYam5IC",
        "outputId": "7482266e-2702-4910-864c-f99b319352d4"
      },
      "execution_count": 38,
      "outputs": [
        {
          "output_type": "execute_result",
          "data": {
            "text/plain": [
              "2"
            ]
          },
          "metadata": {},
          "execution_count": 38
        }
      ]
    },
    {
      "cell_type": "code",
      "source": [
        "arr"
      ],
      "metadata": {
        "colab": {
          "base_uri": "https://localhost:8080/"
        },
        "id": "jHks76afm6sC",
        "outputId": "47f6f1fb-46a0-4ea3-8ccf-76c69336f7c0"
      },
      "execution_count": 39,
      "outputs": [
        {
          "output_type": "execute_result",
          "data": {
            "text/plain": [
              "array([[1, 2, 3],\n",
              "       [4, 5, 6],\n",
              "       [7, 8, 9]])"
            ]
          },
          "metadata": {},
          "execution_count": 39
        }
      ]
    },
    {
      "cell_type": "markdown",
      "source": [
        "#To get all elements of Row or Column"
      ],
      "metadata": {
        "id": "86vnAwScnJKS"
      }
    },
    {
      "cell_type": "code",
      "source": [
        "arr[0:1,1:3]"
      ],
      "metadata": {
        "colab": {
          "base_uri": "https://localhost:8080/"
        },
        "id": "LoZclgRMm_Zq",
        "outputId": "1dc5e9b8-1e69-4093-d88e-5aa7df082067"
      },
      "execution_count": 40,
      "outputs": [
        {
          "output_type": "execute_result",
          "data": {
            "text/plain": [
              "array([[2, 3]])"
            ]
          },
          "metadata": {},
          "execution_count": 40
        }
      ]
    },
    {
      "cell_type": "code",
      "source": [
        "arr[::-1,::-1]"
      ],
      "metadata": {
        "colab": {
          "base_uri": "https://localhost:8080/"
        },
        "id": "4NhdvoocnKxK",
        "outputId": "920cd38e-f2e0-4c9f-ceb7-f4ebb9eeac07"
      },
      "execution_count": 41,
      "outputs": [
        {
          "output_type": "execute_result",
          "data": {
            "text/plain": [
              "array([[9, 8, 7],\n",
              "       [6, 5, 4],\n",
              "       [3, 2, 1]])"
            ]
          },
          "metadata": {},
          "execution_count": 41
        }
      ]
    },
    {
      "cell_type": "markdown",
      "source": [
        "#Ones Array\n",
        "Similar to zeros we can also have all elements as one by using ones((r,c))"
      ],
      "metadata": {
        "id": "8gKOoszTpeTw"
      }
    },
    {
      "cell_type": "code",
      "source": [
        "arr = np.ones((2,3,4))"
      ],
      "metadata": {
        "id": "0LIvzoTXnPTD"
      },
      "execution_count": 42,
      "outputs": []
    },
    {
      "cell_type": "code",
      "source": [
        "arr.ndim"
      ],
      "metadata": {
        "colab": {
          "base_uri": "https://localhost:8080/"
        },
        "id": "XfFaxhxlnUKL",
        "outputId": "b5623dc1-122f-4e0e-ec8b-b2870663e9a6"
      },
      "execution_count": 43,
      "outputs": [
        {
          "output_type": "execute_result",
          "data": {
            "text/plain": [
              "3"
            ]
          },
          "metadata": {},
          "execution_count": 43
        }
      ]
    },
    {
      "cell_type": "code",
      "source": [
        "arr.shape"
      ],
      "metadata": {
        "colab": {
          "base_uri": "https://localhost:8080/"
        },
        "id": "nydBi3KHnkKs",
        "outputId": "32dcb0d6-7b0b-49ef-99c4-745c6d8afd95"
      },
      "execution_count": 44,
      "outputs": [
        {
          "output_type": "execute_result",
          "data": {
            "text/plain": [
              "(2, 3, 4)"
            ]
          },
          "metadata": {},
          "execution_count": 44
        }
      ]
    },
    {
      "cell_type": "markdown",
      "source": [
        "#Some More Functions of Numpy:\n",
        "Initializing different types of an array\n",
        "There are various built-in functions used to initialize an array\n",
        "Zeros Array\n",
        "zeros((r,c)) - It will return an array with all elements zeros with r number of rows and c number of columns."
      ],
      "metadata": {
        "id": "HExGJ10Gnqg8"
      }
    },
    {
      "cell_type": "markdown",
      "source": [
        "#Random Array\n",
        "random.rand(r,c) - this function will generate an array with all random elements."
      ],
      "metadata": {
        "id": "JRmxoqx4owrl"
      }
    },
    {
      "cell_type": "code",
      "source": [
        "arr = np.arange(10,20,2)"
      ],
      "metadata": {
        "id": "2OVAh1Qcnl_E"
      },
      "execution_count": 45,
      "outputs": []
    },
    {
      "cell_type": "code",
      "source": [
        "print(arr)"
      ],
      "metadata": {
        "colab": {
          "base_uri": "https://localhost:8080/"
        },
        "id": "3hTkqx6Fo4Z-",
        "outputId": "cb1349b7-4fff-4fb6-acba-67244296a398"
      },
      "execution_count": 46,
      "outputs": [
        {
          "output_type": "stream",
          "name": "stdout",
          "text": [
            "[10 12 14 16 18]\n"
          ]
        }
      ]
    },
    {
      "cell_type": "code",
      "source": [
        "np.random.permutation(arr)"
      ],
      "metadata": {
        "colab": {
          "base_uri": "https://localhost:8080/"
        },
        "id": "oZiO2ROao7je",
        "outputId": "310779cc-022c-43ec-86bd-2f2b91410bee"
      },
      "execution_count": 47,
      "outputs": [
        {
          "output_type": "execute_result",
          "data": {
            "text/plain": [
              "array([16, 14, 12, 10, 18])"
            ]
          },
          "metadata": {},
          "execution_count": 47
        }
      ]
    },
    {
      "cell_type": "code",
      "source": [
        "arr"
      ],
      "metadata": {
        "colab": {
          "base_uri": "https://localhost:8080/"
        },
        "id": "D9tWeKsCo-wG",
        "outputId": "97707fb6-c828-4c43-9e85-9c9129393fd8"
      },
      "execution_count": 48,
      "outputs": [
        {
          "output_type": "execute_result",
          "data": {
            "text/plain": [
              "array([10, 12, 14, 16, 18])"
            ]
          },
          "metadata": {},
          "execution_count": 48
        }
      ]
    },
    {
      "cell_type": "markdown",
      "source": [
        "#Numpy.random.randint() \n",
        "is one of the function for doing random sampling in numpy. It returns an array of specified shape and fills it with random integers from low (inclusive) to high (exclusive), i.e. in the interval [low, high)."
      ],
      "metadata": {
        "id": "CJqGlt_7pxtP"
      }
    },
    {
      "cell_type": "markdown",
      "source": [
        "Syntax : numpy.random.randint(low, high=None, size=None, dtype=’l’)\n",
        "\n",
        "Parameters :\n",
        "low : [int] Lowest (signed) integer to be drawn from the distribution.But, it works as a highest integer in the sample if high=None.\n",
        "high : [int, optional] Largest (signed) integer to be drawn from the distribution.\n",
        "size : [int or tuple of ints, optional] Output shape. If the given shape is, e.g., (m, n, k), then m * n * k samples are drawn. Default is None, in which case a single value is returned.\n",
        "dtype : [optional] Desired output data-type.\n",
        "\n",
        "Return : Array of random integers in the interval [low, high) or a single such random int if size not provided."
      ],
      "metadata": {
        "id": "ZUu2VyulqBfY"
      }
    },
    {
      "cell_type": "code",
      "source": [
        "np.random.randint(1,5)"
      ],
      "metadata": {
        "colab": {
          "base_uri": "https://localhost:8080/"
        },
        "id": "Cp27CGsYpC0P",
        "outputId": "e6160b9e-f37d-4f44-e227-0f5939c6532e"
      },
      "execution_count": 49,
      "outputs": [
        {
          "output_type": "execute_result",
          "data": {
            "text/plain": [
              "4"
            ]
          },
          "metadata": {},
          "execution_count": 49
        }
      ]
    },
    {
      "cell_type": "code",
      "source": [
        "arr = np.random.randn(1000)"
      ],
      "metadata": {
        "id": "R7A_sSULpIJ-"
      },
      "execution_count": 50,
      "outputs": []
    },
    {
      "cell_type": "code",
      "source": [
        "arr\n",
        "arr.mean()\n",
        "arr.std()"
      ],
      "metadata": {
        "colab": {
          "base_uri": "https://localhost:8080/"
        },
        "id": "Pbdr8w6DpL3w",
        "outputId": "309e6c27-7774-4283-c5a5-fbeb9600068a"
      },
      "execution_count": 51,
      "outputs": [
        {
          "output_type": "execute_result",
          "data": {
            "text/plain": [
              "1.0296155337523711"
            ]
          },
          "metadata": {},
          "execution_count": 51
        }
      ]
    }
  ]
}